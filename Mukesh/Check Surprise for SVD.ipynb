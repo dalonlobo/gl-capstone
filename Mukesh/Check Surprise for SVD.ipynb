{
 "cells": [
  {
   "cell_type": "code",
   "execution_count": 1,
   "metadata": {
    "collapsed": true
   },
   "outputs": [],
   "source": [
    "%matplotlib inline\n",
    "import matplotlib.pyplot as plt\n",
    "import numpy as np\n",
    "import pandas as pd"
   ]
  },
  {
   "cell_type": "code",
   "execution_count": 2,
   "metadata": {
    "collapsed": true,
    "scrolled": true
   },
   "outputs": [],
   "source": [
    "#!pip install scikit-surprise"
   ]
  },
  {
   "cell_type": "markdown",
   "metadata": {},
   "source": [
    "http://surprise.readthedocs.io/en/stable/getting_started.html"
   ]
  },
  {
   "cell_type": "code",
   "execution_count": 3,
   "metadata": {
    "collapsed": true
   },
   "outputs": [],
   "source": [
    "from surprise import SVD\n",
    "from surprise import Dataset, evaluate\n",
    "from surprise.model_selection import cross_validate"
   ]
  },
  {
   "cell_type": "code",
   "execution_count": 4,
   "metadata": {
    "collapsed": true
   },
   "outputs": [],
   "source": [
    "# Load the movielens-100k dataset (download it if needed),\n",
    "data = Dataset.load_builtin('ml-100k')\n",
    "\n",
    "# We'll use the famous SVD algorithm.\n",
    "algo = SVD()"
   ]
  },
  {
   "cell_type": "code",
   "execution_count": 5,
   "metadata": {},
   "outputs": [
    {
     "name": "stderr",
     "output_type": "stream",
     "text": [
      "/home/dalonlobo/anaconda/lib/python3.6/site-packages/surprise/evaluate.py:66: UserWarning: The evaluate() method is deprecated. Please use model_selection.cross_validate() instead.\n",
      "  'model_selection.cross_validate() instead.', UserWarning)\n",
      "/home/dalonlobo/anaconda/lib/python3.6/site-packages/surprise/dataset.py:193: UserWarning: Using data.split() or using load_from_folds() without using a CV iterator is now deprecated. \n",
      "  UserWarning)\n"
     ]
    },
    {
     "name": "stdout",
     "output_type": "stream",
     "text": [
      "Evaluating RMSE, MAE of algorithm SVD.\n",
      "\n",
      "------------\n",
      "Fold 1\n",
      "RMSE: 0.9439\n",
      "MAE:  0.7441\n",
      "------------\n",
      "Fold 2\n",
      "RMSE: 0.9430\n",
      "MAE:  0.7440\n",
      "------------\n",
      "Fold 3\n",
      "RMSE: 0.9266\n",
      "MAE:  0.7296\n",
      "------------\n",
      "Fold 4\n",
      "RMSE: 0.9347\n",
      "MAE:  0.7347\n",
      "------------\n",
      "Fold 5\n",
      "RMSE: 0.9387\n",
      "MAE:  0.7412\n",
      "------------\n",
      "------------\n",
      "Mean RMSE: 0.9374\n",
      "Mean MAE : 0.7387\n",
      "------------\n",
      "------------\n"
     ]
    },
    {
     "data": {
      "text/plain": [
       "CaseInsensitiveDefaultDict(list,\n",
       "                           {'mae': [0.74407594047592174,\n",
       "                             0.74403425023505232,\n",
       "                             0.72959614333301992,\n",
       "                             0.73474820746221581,\n",
       "                             0.74121816052642731],\n",
       "                            'rmse': [0.94394669321920421,\n",
       "                             0.94299945754156134,\n",
       "                             0.92656330391811281,\n",
       "                             0.93469775564098279,\n",
       "                             0.93871740510646817]})"
      ]
     },
     "execution_count": 5,
     "metadata": {},
     "output_type": "execute_result"
    }
   ],
   "source": [
    "evaluate(algo, data, measures=['RMSE', 'MAE'])"
   ]
  },
  {
   "cell_type": "code",
   "execution_count": 6,
   "metadata": {},
   "outputs": [
    {
     "data": {
      "text/plain": [
       "<surprise.trainset.Trainset at 0x7fc4e862bb00>"
      ]
     },
     "execution_count": 6,
     "metadata": {},
     "output_type": "execute_result"
    }
   ],
   "source": [
    "data.build_full_trainset()"
   ]
  },
  {
   "cell_type": "markdown",
   "metadata": {},
   "source": [
    "0 \t8 \t4 \t9 \t9 \t6 \t6 \t8 \t9\n",
    "1 \t6 \t5 \t2 \t2 \t3 \t4 \t4 \t3\n",
    "2 \t5 \t3 \t4 \t4 \t4 \t6 \t5 \t4\n",
    "3 \t8 \t0 \t3 \t3 \t6 \t5 \t4 \t3\n",
    "4 \t0 \t0 \t0 \t0 \t0 \t0 \t0 \t0"
   ]
  },
  {
   "cell_type": "code",
   "execution_count": 7,
   "metadata": {
    "collapsed": true
   },
   "outputs": [],
   "source": [
    "df  = pd.read_csv(\"SVD_Data_1.csv\")"
   ]
  },
  {
   "cell_type": "code",
   "execution_count": 16,
   "metadata": {},
   "outputs": [
    {
     "data": {
      "text/html": [
       "<div>\n",
       "<style>\n",
       "    .dataframe thead tr:only-child th {\n",
       "        text-align: right;\n",
       "    }\n",
       "\n",
       "    .dataframe thead th {\n",
       "        text-align: left;\n",
       "    }\n",
       "\n",
       "    .dataframe tbody tr th {\n",
       "        vertical-align: top;\n",
       "    }\n",
       "</style>\n",
       "<table border=\"1\" class=\"dataframe\">\n",
       "  <thead>\n",
       "    <tr style=\"text-align: right;\">\n",
       "      <th></th>\n",
       "      <th>Basic_Stats_score</th>\n",
       "      <th>Inferential_Stats_score</th>\n",
       "      <th>Linear_Reg_score</th>\n",
       "      <th>Logistic_Reg_score</th>\n",
       "      <th>DT_score</th>\n",
       "      <th>NB_score</th>\n",
       "      <th>SVM_score</th>\n",
       "      <th>KM_Clustering_score</th>\n",
       "    </tr>\n",
       "  </thead>\n",
       "  <tbody>\n",
       "    <tr>\n",
       "      <th>0</th>\n",
       "      <td>8</td>\n",
       "      <td>4</td>\n",
       "      <td>9</td>\n",
       "      <td>9</td>\n",
       "      <td>6</td>\n",
       "      <td>6</td>\n",
       "      <td>8</td>\n",
       "      <td>9</td>\n",
       "    </tr>\n",
       "    <tr>\n",
       "      <th>1</th>\n",
       "      <td>6</td>\n",
       "      <td>5</td>\n",
       "      <td>2</td>\n",
       "      <td>2</td>\n",
       "      <td>3</td>\n",
       "      <td>4</td>\n",
       "      <td>4</td>\n",
       "      <td>3</td>\n",
       "    </tr>\n",
       "    <tr>\n",
       "      <th>2</th>\n",
       "      <td>5</td>\n",
       "      <td>3</td>\n",
       "      <td>4</td>\n",
       "      <td>4</td>\n",
       "      <td>4</td>\n",
       "      <td>6</td>\n",
       "      <td>5</td>\n",
       "      <td>4</td>\n",
       "    </tr>\n",
       "    <tr>\n",
       "      <th>3</th>\n",
       "      <td>8</td>\n",
       "      <td>0</td>\n",
       "      <td>3</td>\n",
       "      <td>3</td>\n",
       "      <td>6</td>\n",
       "      <td>5</td>\n",
       "      <td>4</td>\n",
       "      <td>3</td>\n",
       "    </tr>\n",
       "    <tr>\n",
       "      <th>4</th>\n",
       "      <td>0</td>\n",
       "      <td>0</td>\n",
       "      <td>0</td>\n",
       "      <td>0</td>\n",
       "      <td>0</td>\n",
       "      <td>0</td>\n",
       "      <td>0</td>\n",
       "      <td>0</td>\n",
       "    </tr>\n",
       "    <tr>\n",
       "      <th>5</th>\n",
       "      <td>0</td>\n",
       "      <td>0</td>\n",
       "      <td>0</td>\n",
       "      <td>0</td>\n",
       "      <td>0</td>\n",
       "      <td>0</td>\n",
       "      <td>6</td>\n",
       "      <td>4</td>\n",
       "    </tr>\n",
       "    <tr>\n",
       "      <th>6</th>\n",
       "      <td>0</td>\n",
       "      <td>0</td>\n",
       "      <td>0</td>\n",
       "      <td>0</td>\n",
       "      <td>0</td>\n",
       "      <td>0</td>\n",
       "      <td>0</td>\n",
       "      <td>0</td>\n",
       "    </tr>\n",
       "    <tr>\n",
       "      <th>7</th>\n",
       "      <td>6</td>\n",
       "      <td>0</td>\n",
       "      <td>3</td>\n",
       "      <td>3</td>\n",
       "      <td>5</td>\n",
       "      <td>5</td>\n",
       "      <td>3</td>\n",
       "      <td>4</td>\n",
       "    </tr>\n",
       "    <tr>\n",
       "      <th>8</th>\n",
       "      <td>0</td>\n",
       "      <td>0</td>\n",
       "      <td>0</td>\n",
       "      <td>0</td>\n",
       "      <td>0</td>\n",
       "      <td>0</td>\n",
       "      <td>0</td>\n",
       "      <td>0</td>\n",
       "    </tr>\n",
       "    <tr>\n",
       "      <th>9</th>\n",
       "      <td>6</td>\n",
       "      <td>4</td>\n",
       "      <td>5</td>\n",
       "      <td>3</td>\n",
       "      <td>5</td>\n",
       "      <td>7</td>\n",
       "      <td>5</td>\n",
       "      <td>3</td>\n",
       "    </tr>\n",
       "  </tbody>\n",
       "</table>\n",
       "</div>"
      ],
      "text/plain": [
       "   Basic_Stats_score  Inferential_Stats_score  Linear_Reg_score  \\\n",
       "0                  8                        4                 9   \n",
       "1                  6                        5                 2   \n",
       "2                  5                        3                 4   \n",
       "3                  8                        0                 3   \n",
       "4                  0                        0                 0   \n",
       "5                  0                        0                 0   \n",
       "6                  0                        0                 0   \n",
       "7                  6                        0                 3   \n",
       "8                  0                        0                 0   \n",
       "9                  6                        4                 5   \n",
       "\n",
       "   Logistic_Reg_score  DT_score  NB_score  SVM_score  KM_Clustering_score  \n",
       "0                   9         6         6          8                    9  \n",
       "1                   2         3         4          4                    3  \n",
       "2                   4         4         6          5                    4  \n",
       "3                   3         6         5          4                    3  \n",
       "4                   0         0         0          0                    0  \n",
       "5                   0         0         0          6                    4  \n",
       "6                   0         0         0          0                    0  \n",
       "7                   3         5         5          3                    4  \n",
       "8                   0         0         0          0                    0  \n",
       "9                   3         5         7          5                    3  "
      ]
     },
     "execution_count": 16,
     "metadata": {},
     "output_type": "execute_result"
    }
   ],
   "source": [
    "df.head(10)"
   ]
  },
  {
   "cell_type": "code",
   "execution_count": 9,
   "metadata": {
    "collapsed": true
   },
   "outputs": [],
   "source": [
    "quiz = []\n",
    "user = []\n",
    "score = []\n",
    "for row in df.iterrows():\n",
    "    for index, val in row[1].iteritems():\n",
    "        if val != 0:\n",
    "            quiz.append(index)\n",
    "            user.append(row[0])\n",
    "            score.append(val)"
   ]
  },
  {
   "cell_type": "code",
   "execution_count": 20,
   "metadata": {},
   "outputs": [
    {
     "data": {
      "text/plain": [
       "[8,\n",
       " 4,\n",
       " 9,\n",
       " 9,\n",
       " 6,\n",
       " 6,\n",
       " 8,\n",
       " 9,\n",
       " 6,\n",
       " 5,\n",
       " 2,\n",
       " 2,\n",
       " 3,\n",
       " 4,\n",
       " 4,\n",
       " 3,\n",
       " 5,\n",
       " 3,\n",
       " 4,\n",
       " 4,\n",
       " 4,\n",
       " 6,\n",
       " 5,\n",
       " 4,\n",
       " 8,\n",
       " 3,\n",
       " 3,\n",
       " 6,\n",
       " 5,\n",
       " 4,\n",
       " 3,\n",
       " 6,\n",
       " 4,\n",
       " 6,\n",
       " 3,\n",
       " 3,\n",
       " 5,\n",
       " 5,\n",
       " 3,\n",
       " 4,\n",
       " 6,\n",
       " 4,\n",
       " 5,\n",
       " 3,\n",
       " 5,\n",
       " 7,\n",
       " 5,\n",
       " 3,\n",
       " 9,\n",
       " 7,\n",
       " 8,\n",
       " 8,\n",
       " 5,\n",
       " 6,\n",
       " 8,\n",
       " 8,\n",
       " 8,\n",
       " 5,\n",
       " 6,\n",
       " 4,\n",
       " 5,\n",
       " 8,\n",
       " 4,\n",
       " 3,\n",
       " 7,\n",
       " 5,\n",
       " 3,\n",
       " 5,\n",
       " 6,\n",
       " 6,\n",
       " 3,\n",
       " 5,\n",
       " 3,\n",
       " 2,\n",
       " 2,\n",
       " 6,\n",
       " 5,\n",
       " 3,\n",
       " 2,\n",
       " 5,\n",
       " 3,\n",
       " 2,\n",
       " 1,\n",
       " 4,\n",
       " 4,\n",
       " 4,\n",
       " 3,\n",
       " 4,\n",
       " 3,\n",
       " 3,\n",
       " 2,\n",
       " 4,\n",
       " 6,\n",
       " 3,\n",
       " 2,\n",
       " 6,\n",
       " 3,\n",
       " 3,\n",
       " 2,\n",
       " 5,\n",
       " 5,\n",
       " 4,\n",
       " 3,\n",
       " 6,\n",
       " 4,\n",
       " 4,\n",
       " 4,\n",
       " 5,\n",
       " 6,\n",
       " 5,\n",
       " 4,\n",
       " 6,\n",
       " 1,\n",
       " 3,\n",
       " 4,\n",
       " 4,\n",
       " 6,\n",
       " 4,\n",
       " 3,\n",
       " 8,\n",
       " 6,\n",
       " 6,\n",
       " 7,\n",
       " 6,\n",
       " 5,\n",
       " 7,\n",
       " 4,\n",
       " 3,\n",
       " 4,\n",
       " 2,\n",
       " 5,\n",
       " 6,\n",
       " 2,\n",
       " 3,\n",
       " 3,\n",
       " 2,\n",
       " 6,\n",
       " 3,\n",
       " 8,\n",
       " 8,\n",
       " 4,\n",
       " 3,\n",
       " 4,\n",
       " 5,\n",
       " 4,\n",
       " 5,\n",
       " 3,\n",
       " 5,\n",
       " 9,\n",
       " 9,\n",
       " 9,\n",
       " 7,\n",
       " 8,\n",
       " 9,\n",
       " 9,\n",
       " 6,\n",
       " 4,\n",
       " 1,\n",
       " 5,\n",
       " 6,\n",
       " 3,\n",
       " 2]"
      ]
     },
     "execution_count": 20,
     "metadata": {},
     "output_type": "execute_result"
    }
   ],
   "source": [
    "score"
   ]
  },
  {
   "cell_type": "code",
   "execution_count": 10,
   "metadata": {
    "collapsed": true
   },
   "outputs": [],
   "source": [
    "import pandas as pd\n",
    "from surprise import NormalPredictor\n",
    "from surprise import Dataset\n",
    "from surprise import Reader\n",
    "from surprise.model_selection import cross_validate\n",
    "\n",
    "\n",
    "# Creation of the dataframe. Column names are irrelevant.\n",
    "ratings_dict = {'itemID': quiz,\n",
    "                'userID': user,\n",
    "                'rating': score}\n",
    "df_1 = pd.DataFrame(ratings_dict)\n",
    "\n",
    "# A reader is still needed but only the rating_scale param is requiered.\n",
    "reader = Reader(rating_scale=(1, 10))\n",
    "\n",
    "# The columns must correspond to user id, item id and ratings (in that order).\n",
    "data = Dataset.load_from_df(df_1[['userID', 'itemID', 'rating']], reader)"
   ]
  },
  {
   "cell_type": "code",
   "execution_count": 11,
   "metadata": {},
   "outputs": [
    {
     "data": {
      "text/plain": [
       "<surprise.prediction_algorithms.matrix_factorization.SVD at 0x7fc4bbe7aa90>"
      ]
     },
     "execution_count": 11,
     "metadata": {},
     "output_type": "execute_result"
    }
   ],
   "source": [
    "algo = SVD()\n",
    "\n",
    "# Retrieve the trainset.\n",
    "trainset = data.build_full_trainset()\n",
    "algo.fit(trainset)\n"
   ]
  },
  {
   "cell_type": "markdown",
   "metadata": {},
   "source": [
    " [ 5.84923656  3.6480802   4.58421217  4.1307881   5.11488531  5.90071833\n",
    "   4.75008146  4.22995128]"
   ]
  },
  {
   "cell_type": "code",
   "execution_count": 12,
   "metadata": {},
   "outputs": [
    {
     "data": {
      "text/plain": [
       "Index(['Basic_Stats_score', 'Inferential_Stats_score', 'Linear_Reg_score',\n",
       "       'Logistic_Reg_score', 'DT_score', 'NB_score', 'SVM_score',\n",
       "       'KM_Clustering_score'],\n",
       "      dtype='object')"
      ]
     },
     "execution_count": 12,
     "metadata": {},
     "output_type": "execute_result"
    }
   ],
   "source": [
    "df.columns"
   ]
  },
  {
   "cell_type": "code",
   "execution_count": 13,
   "metadata": {},
   "outputs": [
    {
     "name": "stdout",
     "output_type": "stream",
     "text": [
      "user: 5          item: Basic_Stats_score r_ui = 0.00   est = 5.97   {'was_impossible': False}\n",
      "user: 5          item: Inferential_Stats_score r_ui = 0.00   est = 4.09   {'was_impossible': False}\n",
      "user: 5          item: Linear_Reg_score r_ui = 0.00   est = 4.55   {'was_impossible': False}\n",
      "user: 5          item: Logistic_Reg_score r_ui = 0.00   est = 4.09   {'was_impossible': False}\n",
      "user: 5          item: DT_score   r_ui = 0.00   est = 5.13   {'was_impossible': False}\n",
      "user: 5          item: NB_score   r_ui = 0.00   est = 5.68   {'was_impossible': False}\n",
      "user: 5          item: SVM_score  r_ui = 0.00   est = 4.53   {'was_impossible': False}\n",
      "user: 5          item: KM_Clustering_score r_ui = 0.00   est = 4.30   {'was_impossible': False}\n"
     ]
    }
   ],
   "source": [
    "for col in df.columns:\n",
    "    # Predict a certain item\n",
    "    userid = str(5)\n",
    "    itemid = col\n",
    "    actual_rating = 0\n",
    "    print(algo.predict(userid, itemid, actual_rating))"
   ]
  },
  {
   "cell_type": "code",
   "execution_count": 14,
   "metadata": {
    "collapsed": true
   },
   "outputs": [],
   "source": [
    "\n",
    "# # Unzip ml-100k.zip\n",
    "# zipfile = zipfile.ZipFile('ml-100k.zip', 'r')\n",
    "# zipfile.extractall()\n",
    "# zipfile.close()\n",
    "\n",
    "# # Read data into an array of strings\n",
    "# with open('./ml-100k/u.data') as f:\n",
    "#     all_lines = f.readlines()\n",
    "\n",
    "# # Prepare the data to be used in Surprise\n",
    "# reader = Reader(line_format='user item rating timestamp', sep='\\t')\n",
    "# data = Dataset.load_from_file('./ml-100k/u.data', reader=reader)\n",
    "\n",
    "# # Split the dataset into 5 folds and choose the algorithm\n",
    "# data.split(n_folds=5)\n",
    "# algo = SVD()\n",
    "\n",
    "# # Train and test reporting the RMSE and MAE scores\n",
    "# evaluate(algo, data, measures=['RMSE', 'MAE'])\n",
    "\n",
    "# # Retrieve the trainset.\n",
    "# trainset = data.build_full_trainset()\n",
    "# algo.train(trainset)\n",
    "\n",
    "# # Predict a certain item\n",
    "# userid = str(196)\n",
    "# itemid = str(302)\n",
    "# actual_rating = 4\n",
    "# print(algo.predict(userid, itemid, actual_rating))"
   ]
  },
  {
   "cell_type": "code",
   "execution_count": null,
   "metadata": {
    "collapsed": true
   },
   "outputs": [],
   "source": []
  }
 ],
 "metadata": {
  "kernelspec": {
   "display_name": "Python 3",
   "language": "python",
   "name": "python3"
  },
  "language_info": {
   "codemirror_mode": {
    "name": "ipython",
    "version": 3
   },
   "file_extension": ".py",
   "mimetype": "text/x-python",
   "name": "python",
   "nbconvert_exporter": "python",
   "pygments_lexer": "ipython3",
   "version": "3.6.1"
  }
 },
 "nbformat": 4,
 "nbformat_minor": 2
}
