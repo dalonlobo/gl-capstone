{
 "cells": [
  {
   "cell_type": "code",
   "execution_count": 1,
   "metadata": {
    "collapsed": true
   },
   "outputs": [],
   "source": [
    "import pandas as pd\n",
    "import numpy as np"
   ]
  },
  {
   "cell_type": "code",
   "execution_count": 2,
   "metadata": {
    "collapsed": false
   },
   "outputs": [
    {
     "name": "stdout",
     "output_type": "stream",
     "text": [
      "['xgboost_trainsamplediffparams.pkl', 'xgboost_4c_withmerge.pkl', 'mnt', 'sample_submission.csv.zip', 'test_supplement.csv.zip', 'nohup.out', '.ipynb_checkpoints', 'submission.csv', 'EDAReport.ipynb', 'train_sample.csv.zip', 'xgboost_4c_withmergediffparams.pkl', 'BuildModel_merge_diffparams.ipynb', 'Dalon_notebook.ipynb', 'submission_4c_withmany.csv', 'test_withmerge.csv', 'xgbts_merge_withdiffparams.csv', 'PlotImportance_withmerge.ipynb', 'xgboost_8c.pkl', 'Untitled.ipynb', 'sample_submission.csv', 'BuildModel_merge_8c.ipynb', 'xgboost_4c_withmany.pkl', 'test.csv', 'train.csv.zip', 'test.csv.zip', 'BuildModel.ipynb', 'submission_4c_withmerge.csv', 'xgb_merge_withdiffparams.csv']\n"
     ]
    }
   ],
   "source": [
    "import os\n",
    "print(os.listdir(\"/home/sunilvikram/data\"))"
   ]
  },
  {
   "cell_type": "code",
   "execution_count": 3,
   "metadata": {
    "collapsed": true
   },
   "outputs": [],
   "source": [
    "usefulcolumns=['ip','app','device','os', 'channel', 'click_time', 'is_attributed']\n",
    "dtypes = {\n",
    "        'ip'            : 'uint32',\n",
    "        'app'           : 'uint16',\n",
    "        'device'        : 'uint16',\n",
    "        'os'            : 'uint16',\n",
    "        'channel'       : 'uint16',\n",
    "        'is_attributed' : 'uint8',\n",
    "        }"
   ]
  },
  {
   "cell_type": "code",
   "execution_count": 4,
   "metadata": {
    "collapsed": false
   },
   "outputs": [],
   "source": [
    "traindata= pd.read_csv('mnt/ssd/kaggle-talkingdata2/competition_files/train.csv',parse_dates=['click_time'],dtype=dtypes,usecols=usefulcolumns)"
   ]
  },
  {
   "cell_type": "code",
   "execution_count": 5,
   "metadata": {
    "collapsed": false
   },
   "outputs": [
    {
     "name": "stdout",
     "output_type": "stream",
     "text": [
      "<class 'pandas.core.frame.DataFrame'>\n",
      "RangeIndex: 184903890 entries, 0 to 184903889\n",
      "Data columns (total 7 columns):\n",
      "ip               uint32\n",
      "app              uint16\n",
      "device           uint16\n",
      "os               uint16\n",
      "channel          uint16\n",
      "click_time       datetime64[ns]\n",
      "is_attributed    uint8\n",
      "dtypes: datetime64[ns](1), uint16(4), uint32(1), uint8(1)\n",
      "memory usage: 3.6 GB\n"
     ]
    }
   ],
   "source": [
    "traindata.info()"
   ]
  },
  {
   "cell_type": "code",
   "execution_count": 6,
   "metadata": {
    "collapsed": false
   },
   "outputs": [],
   "source": [
    "AttributedDF= traindata[traindata.is_attributed==1]"
   ]
  },
  {
   "cell_type": "code",
   "execution_count": 7,
   "metadata": {
    "collapsed": false
   },
   "outputs": [],
   "source": [
    "NotAttributed= traindata[traindata.is_attributed==0]"
   ]
  },
  {
   "cell_type": "code",
   "execution_count": 8,
   "metadata": {
    "collapsed": false
   },
   "outputs": [
    {
     "data": {
      "text/plain": [
       "(184447044, 7)"
      ]
     },
     "execution_count": 8,
     "metadata": {},
     "output_type": "execute_result"
    }
   ],
   "source": [
    "NotAttributed.shape"
   ]
  },
  {
   "cell_type": "code",
   "execution_count": 9,
   "metadata": {
    "collapsed": true
   },
   "outputs": [],
   "source": [
    "NonAttrCount=AttributedDF.shape[0]*10 -AttributedDF.shape[0]"
   ]
  },
  {
   "cell_type": "code",
   "execution_count": 10,
   "metadata": {
    "collapsed": false
   },
   "outputs": [
    {
     "data": {
      "text/plain": [
       "4111614"
      ]
     },
     "execution_count": 10,
     "metadata": {},
     "output_type": "execute_result"
    }
   ],
   "source": [
    "NonAttrCount"
   ]
  },
  {
   "cell_type": "code",
   "execution_count": 11,
   "metadata": {
    "collapsed": false
   },
   "outputs": [],
   "source": [
    "#NonAttrCount= NonAttrCount *10"
   ]
  },
  {
   "cell_type": "code",
   "execution_count": 12,
   "metadata": {
    "collapsed": true
   },
   "outputs": [],
   "source": [
    "#lines=NotAttributed.shape[0]\n",
    "#howmanytoskip = lines-NonAttrCount\n",
    "\n",
    "#skiplines = np.random.choice(np.arange(1, lines), size=NonAttrCount, replace=False)\n",
    "\n",
    "#sort the list\n",
    "#skiplines=np.sort(skiplines)"
   ]
  },
  {
   "cell_type": "code",
   "execution_count": 13,
   "metadata": {
    "collapsed": false
   },
   "outputs": [],
   "source": [
    "NotAttributed=NotAttributed.sample(n=NonAttrCount)"
   ]
  },
  {
   "cell_type": "code",
   "execution_count": 14,
   "metadata": {
    "collapsed": false
   },
   "outputs": [
    {
     "data": {
      "text/plain": [
       "(4111614, 7)"
      ]
     },
     "execution_count": 14,
     "metadata": {},
     "output_type": "execute_result"
    }
   ],
   "source": [
    "NotAttributed.shape"
   ]
  },
  {
   "cell_type": "code",
   "execution_count": 15,
   "metadata": {
    "collapsed": true
   },
   "outputs": [],
   "source": [
    "newdf = [AttributedDF,NotAttributed]"
   ]
  },
  {
   "cell_type": "code",
   "execution_count": 16,
   "metadata": {
    "collapsed": true
   },
   "outputs": [],
   "source": [
    "newtraindata= pd.concat(newdf)"
   ]
  },
  {
   "cell_type": "code",
   "execution_count": 17,
   "metadata": {
    "collapsed": false
   },
   "outputs": [
    {
     "data": {
      "text/plain": [
       "(4568460, 7)"
      ]
     },
     "execution_count": 17,
     "metadata": {},
     "output_type": "execute_result"
    }
   ],
   "source": [
    "newtraindata.shape"
   ]
  },
  {
   "cell_type": "code",
   "execution_count": 18,
   "metadata": {
    "collapsed": false
   },
   "outputs": [
    {
     "data": {
      "text/plain": [
       "32"
      ]
     },
     "execution_count": 18,
     "metadata": {},
     "output_type": "execute_result"
    }
   ],
   "source": [
    "import gc\n",
    "gc.collect()"
   ]
  },
  {
   "cell_type": "code",
   "execution_count": 19,
   "metadata": {
    "collapsed": true
   },
   "outputs": [],
   "source": [
    "del traindata\n"
   ]
  },
  {
   "cell_type": "code",
   "execution_count": 20,
   "metadata": {
    "collapsed": false
   },
   "outputs": [
    {
     "data": {
      "text/plain": [
       "0"
      ]
     },
     "execution_count": 20,
     "metadata": {},
     "output_type": "execute_result"
    }
   ],
   "source": [
    "del NotAttributed\n",
    "del AttributedDF\n",
    "gc.collect()"
   ]
  },
  {
   "cell_type": "code",
   "execution_count": 21,
   "metadata": {
    "collapsed": true
   },
   "outputs": [],
   "source": [
    "testdata= pd.read_csv('test.csv',parse_dates=['click_time'],dtype=dtypes)"
   ]
  },
  {
   "cell_type": "code",
   "execution_count": 22,
   "metadata": {
    "collapsed": false
   },
   "outputs": [
    {
     "name": "stdout",
     "output_type": "stream",
     "text": [
      "<class 'pandas.core.frame.DataFrame'>\n",
      "Int64Index: 4568460 entries, 103 to 135319886\n",
      "Data columns (total 7 columns):\n",
      "ip               uint32\n",
      "app              uint16\n",
      "device           uint16\n",
      "os               uint16\n",
      "channel          uint16\n",
      "click_time       datetime64[ns]\n",
      "is_attributed    uint8\n",
      "dtypes: datetime64[ns](1), uint16(4), uint32(1), uint8(1)\n",
      "memory usage: 126.3 MB\n"
     ]
    }
   ],
   "source": [
    "newtraindata.info()"
   ]
  },
  {
   "cell_type": "code",
   "execution_count": 23,
   "metadata": {
    "collapsed": false
   },
   "outputs": [
    {
     "name": "stdout",
     "output_type": "stream",
     "text": [
      "<class 'pandas.core.frame.DataFrame'>\n",
      "RangeIndex: 18790469 entries, 0 to 18790468\n",
      "Data columns (total 7 columns):\n",
      "click_id      int64\n",
      "ip            uint32\n",
      "app           uint16\n",
      "device        uint16\n",
      "os            uint16\n",
      "channel       uint16\n",
      "click_time    datetime64[ns]\n",
      "dtypes: datetime64[ns](1), int64(1), uint16(4), uint32(1)\n",
      "memory usage: 501.8 MB\n"
     ]
    }
   ],
   "source": [
    "testdata.info()"
   ]
  },
  {
   "cell_type": "code",
   "execution_count": 24,
   "metadata": {
    "collapsed": true
   },
   "outputs": [],
   "source": [
    "Y = newtraindata['is_attributed']"
   ]
  },
  {
   "cell_type": "code",
   "execution_count": 25,
   "metadata": {
    "collapsed": true
   },
   "outputs": [],
   "source": [
    "newtraindata.drop(['is_attributed'], axis=1, inplace=True)"
   ]
  },
  {
   "cell_type": "code",
   "execution_count": 26,
   "metadata": {
    "collapsed": false
   },
   "outputs": [
    {
     "data": {
      "text/plain": [
       "55"
      ]
     },
     "execution_count": 26,
     "metadata": {},
     "output_type": "execute_result"
    }
   ],
   "source": [
    "testdata.drop(['click_id'], axis=1, inplace=True)\n",
    "gc.collect()"
   ]
  },
  {
   "cell_type": "code",
   "execution_count": 27,
   "metadata": {
    "collapsed": true
   },
   "outputs": [],
   "source": [
    "nrow_train = newtraindata.shape[0]\n",
    "merge = pd.concat([newtraindata, testdata])"
   ]
  },
  {
   "cell_type": "code",
   "execution_count": 28,
   "metadata": {
    "collapsed": false
   },
   "outputs": [
    {
     "name": "stdout",
     "output_type": "stream",
     "text": [
      "<class 'pandas.core.frame.DataFrame'>\n",
      "Int64Index: 23358929 entries, 103 to 18790468\n",
      "Data columns (total 6 columns):\n",
      "ip            uint32\n",
      "app           uint16\n",
      "device        uint16\n",
      "os            uint16\n",
      "channel       uint16\n",
      "click_time    datetime64[ns]\n",
      "dtypes: datetime64[ns](1), uint16(4), uint32(1)\n",
      "memory usage: 623.8 MB\n"
     ]
    }
   ],
   "source": [
    "merge.info()"
   ]
  },
  {
   "cell_type": "code",
   "execution_count": 29,
   "metadata": {
    "collapsed": true
   },
   "outputs": [],
   "source": [
    "def timeFeature(df):\n",
    "    df['dayofclick'] = df['click_time'].dt.day.astype('uint8')\n",
    "    df['hourofclick'] = df['click_time'].dt.hour.astype('uint8')\n",
    "    df['minofclick'] = df['click_time'].dt.minute.astype('uint8')\n",
    "    df['secofclick'] = df['click_time'].dt.second.astype('uint8')\n",
    "    return df"
   ]
  },
  {
   "cell_type": "code",
   "execution_count": 30,
   "metadata": {
    "collapsed": false
   },
   "outputs": [
    {
     "data": {
      "text/html": [
       "<div>\n",
       "<table border=\"1\" class=\"dataframe\">\n",
       "  <thead>\n",
       "    <tr style=\"text-align: right;\">\n",
       "      <th></th>\n",
       "      <th>ip</th>\n",
       "      <th>app</th>\n",
       "      <th>device</th>\n",
       "      <th>os</th>\n",
       "      <th>channel</th>\n",
       "      <th>click_time</th>\n",
       "      <th>dayofclick</th>\n",
       "      <th>hourofclick</th>\n",
       "      <th>minofclick</th>\n",
       "      <th>secofclick</th>\n",
       "    </tr>\n",
       "  </thead>\n",
       "  <tbody>\n",
       "    <tr>\n",
       "      <th>103</th>\n",
       "      <td>204158</td>\n",
       "      <td>35</td>\n",
       "      <td>1</td>\n",
       "      <td>13</td>\n",
       "      <td>21</td>\n",
       "      <td>2017-11-06 15:41:07</td>\n",
       "      <td>6</td>\n",
       "      <td>15</td>\n",
       "      <td>41</td>\n",
       "      <td>7</td>\n",
       "    </tr>\n",
       "    <tr>\n",
       "      <th>1504</th>\n",
       "      <td>29692</td>\n",
       "      <td>9</td>\n",
       "      <td>1</td>\n",
       "      <td>22</td>\n",
       "      <td>215</td>\n",
       "      <td>2017-11-06 16:00:02</td>\n",
       "      <td>6</td>\n",
       "      <td>16</td>\n",
       "      <td>0</td>\n",
       "      <td>2</td>\n",
       "    </tr>\n",
       "    <tr>\n",
       "      <th>1798</th>\n",
       "      <td>64516</td>\n",
       "      <td>35</td>\n",
       "      <td>1</td>\n",
       "      <td>13</td>\n",
       "      <td>21</td>\n",
       "      <td>2017-11-06 16:00:02</td>\n",
       "      <td>6</td>\n",
       "      <td>16</td>\n",
       "      <td>0</td>\n",
       "      <td>2</td>\n",
       "    </tr>\n",
       "    <tr>\n",
       "      <th>2102</th>\n",
       "      <td>172429</td>\n",
       "      <td>35</td>\n",
       "      <td>1</td>\n",
       "      <td>46</td>\n",
       "      <td>274</td>\n",
       "      <td>2017-11-06 16:00:03</td>\n",
       "      <td>6</td>\n",
       "      <td>16</td>\n",
       "      <td>0</td>\n",
       "      <td>3</td>\n",
       "    </tr>\n",
       "    <tr>\n",
       "      <th>3056</th>\n",
       "      <td>199085</td>\n",
       "      <td>35</td>\n",
       "      <td>1</td>\n",
       "      <td>13</td>\n",
       "      <td>274</td>\n",
       "      <td>2017-11-06 16:00:04</td>\n",
       "      <td>6</td>\n",
       "      <td>16</td>\n",
       "      <td>0</td>\n",
       "      <td>4</td>\n",
       "    </tr>\n",
       "  </tbody>\n",
       "</table>\n",
       "</div>"
      ],
      "text/plain": [
       "          ip  app  device  os  channel          click_time  dayofclick  \\\n",
       "103   204158   35       1  13       21 2017-11-06 15:41:07           6   \n",
       "1504   29692    9       1  22      215 2017-11-06 16:00:02           6   \n",
       "1798   64516   35       1  13       21 2017-11-06 16:00:02           6   \n",
       "2102  172429   35       1  46      274 2017-11-06 16:00:03           6   \n",
       "3056  199085   35       1  13      274 2017-11-06 16:00:04           6   \n",
       "\n",
       "      hourofclick  minofclick  secofclick  \n",
       "103            15          41           7  \n",
       "1504           16           0           2  \n",
       "1798           16           0           2  \n",
       "2102           16           0           3  \n",
       "3056           16           0           4  "
      ]
     },
     "execution_count": 30,
     "metadata": {},
     "output_type": "execute_result"
    }
   ],
   "source": [
    "merge=timeFeature(merge)\n",
    "merge.head()"
   ]
  },
  {
   "cell_type": "code",
   "execution_count": 31,
   "metadata": {
    "collapsed": false
   },
   "outputs": [
    {
     "data": {
      "text/plain": [
       "201"
      ]
     },
     "execution_count": 31,
     "metadata": {},
     "output_type": "execute_result"
    }
   ],
   "source": [
    "import gc\n",
    "gc.collect()"
   ]
  },
  {
   "cell_type": "code",
   "execution_count": 32,
   "metadata": {
    "collapsed": true
   },
   "outputs": [],
   "source": [
    "# Define all the groupby transformations\n",
    "def groupByFeatures(df):\n",
    "    GROUPBY_AGGREGATIONS = [\n",
    "    \n",
    "    # V1 - GroupBy Features #\n",
    "    #########################    \n",
    "   \n",
    "    # Count, for ip-day-hour\n",
    "    {'groupby': ['ip','dayofclick','hourofclick'], 'select': 'channel', 'agg': 'count'},\n",
    "    # Count, for ip-app\n",
    "    {'groupby': ['ip', 'app'], 'select': 'channel', 'agg': 'count'},        \n",
    "    # Count, for ip-app-os\n",
    "    {'groupby': ['ip', 'app', 'os'], 'select': 'channel', 'agg': 'count'},\n",
    "    # Count, for ip-app-day-hour\n",
    "    {'groupby': ['ip','app','dayofclick','hourofclick'], 'select': 'channel', 'agg': 'count'},\n",
    "    # Mean hour, for ip-app-channel\n",
    "    {'groupby': ['ip','app','channel'], 'select': 'hourofclick', 'agg': 'mean'}, \n",
    "    \n",
    "    # V2 - GroupBy Features #\n",
    "    #########################\n",
    "    # Average clicks on app by distinct users; is it an app they return to?\n",
    "    {'groupby': ['app'], \n",
    "     'select': 'ip', \n",
    "     'agg': lambda x: float(len(x)) / len(x.unique()), \n",
    "     'agg_name': 'AvgViewPerDistinct'\n",
    "    },\n",
    "    # How popular is the app or channel?\n",
    "    {'groupby': ['app'], 'select': 'channel', 'agg': 'count'},\n",
    "    {'groupby': ['channel'], 'select': 'app', 'agg': 'count'}\n",
    "    ]\n",
    "\n",
    "# Apply all the groupby transformations\n",
    "    for spec in GROUPBY_AGGREGATIONS:\n",
    "    \n",
    "    # Name of the aggregation we're applying\n",
    "        agg_name = spec['agg_name'] if 'agg_name' in spec else spec['agg']\n",
    "    \n",
    "    # Info\n",
    "        print(\"Grouping by {}, and aggregating {} with {}\".format(\n",
    "        spec['groupby'], spec['select'], agg_name\n",
    "        ))\n",
    "    \n",
    "    # Unique list of features to select\n",
    "        all_features = list(set(spec['groupby'] + [spec['select']]))\n",
    "    \n",
    "    # Name of new feature\n",
    "        new_feature = '{}_{}_{}'.format('_'.join(spec['groupby']), agg_name, spec['select'])\n",
    "    \n",
    "    # Perform the groupby\n",
    "        gp = df[all_features]. \\\n",
    "        groupby(spec['groupby'])[spec['select']]. \\\n",
    "        agg(spec['agg']). \\\n",
    "        reset_index(). \\\n",
    "        rename(index=str, columns={spec['select']: new_feature})\n",
    "        \n",
    "    # Merge back to X_train\n",
    "        df=df.merge(gp, on=spec['groupby'], how='left')\n",
    "    return df"
   ]
  },
  {
   "cell_type": "code",
   "execution_count": 33,
   "metadata": {
    "collapsed": false
   },
   "outputs": [
    {
     "name": "stdout",
     "output_type": "stream",
     "text": [
      "Grouping by ['ip', 'dayofclick', 'hourofclick'], and aggregating channel with count\n",
      "Grouping by ['ip', 'app'], and aggregating channel with count\n",
      "Grouping by ['ip', 'app', 'os'], and aggregating channel with count\n",
      "Grouping by ['ip', 'app', 'dayofclick', 'hourofclick'], and aggregating channel with count\n",
      "Grouping by ['ip', 'app', 'channel'], and aggregating hourofclick with mean\n",
      "Grouping by ['app'], and aggregating ip with AvgViewPerDistinct\n",
      "Grouping by ['app'], and aggregating channel with count\n",
      "Grouping by ['channel'], and aggregating app with count\n"
     ]
    }
   ],
   "source": [
    "merge=groupByFeatures(merge)"
   ]
  },
  {
   "cell_type": "code",
   "execution_count": 34,
   "metadata": {
    "collapsed": false
   },
   "outputs": [
    {
     "data": {
      "text/html": [
       "<div>\n",
       "<table border=\"1\" class=\"dataframe\">\n",
       "  <thead>\n",
       "    <tr style=\"text-align: right;\">\n",
       "      <th></th>\n",
       "      <th>ip</th>\n",
       "      <th>app</th>\n",
       "      <th>device</th>\n",
       "      <th>os</th>\n",
       "      <th>channel</th>\n",
       "      <th>click_time</th>\n",
       "      <th>dayofclick</th>\n",
       "      <th>hourofclick</th>\n",
       "      <th>minofclick</th>\n",
       "      <th>secofclick</th>\n",
       "      <th>ip_dayofclick_hourofclick_count_channel</th>\n",
       "      <th>ip_app_count_channel</th>\n",
       "      <th>ip_app_os_count_channel</th>\n",
       "      <th>ip_app_dayofclick_hourofclick_count_channel</th>\n",
       "      <th>ip_app_channel_mean_hourofclick</th>\n",
       "      <th>app_AvgViewPerDistinct_ip</th>\n",
       "      <th>app_count_channel</th>\n",
       "      <th>channel_count_app</th>\n",
       "    </tr>\n",
       "  </thead>\n",
       "  <tbody>\n",
       "    <tr>\n",
       "      <th>0</th>\n",
       "      <td>204158</td>\n",
       "      <td>35</td>\n",
       "      <td>1</td>\n",
       "      <td>13</td>\n",
       "      <td>21</td>\n",
       "      <td>2017-11-06 15:41:07</td>\n",
       "      <td>6</td>\n",
       "      <td>15</td>\n",
       "      <td>41</td>\n",
       "      <td>7</td>\n",
       "      <td>1</td>\n",
       "      <td>1</td>\n",
       "      <td>1</td>\n",
       "      <td>1</td>\n",
       "      <td>15.00</td>\n",
       "      <td>2.228382</td>\n",
       "      <td>68057</td>\n",
       "      <td>70263</td>\n",
       "    </tr>\n",
       "    <tr>\n",
       "      <th>1</th>\n",
       "      <td>29692</td>\n",
       "      <td>9</td>\n",
       "      <td>1</td>\n",
       "      <td>22</td>\n",
       "      <td>215</td>\n",
       "      <td>2017-11-06 16:00:02</td>\n",
       "      <td>6</td>\n",
       "      <td>16</td>\n",
       "      <td>0</td>\n",
       "      <td>2</td>\n",
       "      <td>1</td>\n",
       "      <td>58</td>\n",
       "      <td>2</td>\n",
       "      <td>1</td>\n",
       "      <td>9.00</td>\n",
       "      <td>34.891723</td>\n",
       "      <td>3257910</td>\n",
       "      <td>282562</td>\n",
       "    </tr>\n",
       "    <tr>\n",
       "      <th>2</th>\n",
       "      <td>64516</td>\n",
       "      <td>35</td>\n",
       "      <td>1</td>\n",
       "      <td>13</td>\n",
       "      <td>21</td>\n",
       "      <td>2017-11-06 16:00:02</td>\n",
       "      <td>6</td>\n",
       "      <td>16</td>\n",
       "      <td>0</td>\n",
       "      <td>2</td>\n",
       "      <td>8</td>\n",
       "      <td>16</td>\n",
       "      <td>3</td>\n",
       "      <td>2</td>\n",
       "      <td>7.25</td>\n",
       "      <td>2.228382</td>\n",
       "      <td>68057</td>\n",
       "      <td>70263</td>\n",
       "    </tr>\n",
       "    <tr>\n",
       "      <th>3</th>\n",
       "      <td>172429</td>\n",
       "      <td>35</td>\n",
       "      <td>1</td>\n",
       "      <td>46</td>\n",
       "      <td>274</td>\n",
       "      <td>2017-11-06 16:00:03</td>\n",
       "      <td>6</td>\n",
       "      <td>16</td>\n",
       "      <td>0</td>\n",
       "      <td>3</td>\n",
       "      <td>1</td>\n",
       "      <td>2</td>\n",
       "      <td>1</td>\n",
       "      <td>1</td>\n",
       "      <td>16.00</td>\n",
       "      <td>2.228382</td>\n",
       "      <td>68057</td>\n",
       "      <td>27476</td>\n",
       "    </tr>\n",
       "    <tr>\n",
       "      <th>4</th>\n",
       "      <td>199085</td>\n",
       "      <td>35</td>\n",
       "      <td>1</td>\n",
       "      <td>13</td>\n",
       "      <td>274</td>\n",
       "      <td>2017-11-06 16:00:04</td>\n",
       "      <td>6</td>\n",
       "      <td>16</td>\n",
       "      <td>0</td>\n",
       "      <td>4</td>\n",
       "      <td>1</td>\n",
       "      <td>4</td>\n",
       "      <td>1</td>\n",
       "      <td>1</td>\n",
       "      <td>16.00</td>\n",
       "      <td>2.228382</td>\n",
       "      <td>68057</td>\n",
       "      <td>27476</td>\n",
       "    </tr>\n",
       "  </tbody>\n",
       "</table>\n",
       "</div>"
      ],
      "text/plain": [
       "       ip  app  device  os  channel          click_time  dayofclick  \\\n",
       "0  204158   35       1  13       21 2017-11-06 15:41:07           6   \n",
       "1   29692    9       1  22      215 2017-11-06 16:00:02           6   \n",
       "2   64516   35       1  13       21 2017-11-06 16:00:02           6   \n",
       "3  172429   35       1  46      274 2017-11-06 16:00:03           6   \n",
       "4  199085   35       1  13      274 2017-11-06 16:00:04           6   \n",
       "\n",
       "   hourofclick  minofclick  secofclick  \\\n",
       "0           15          41           7   \n",
       "1           16           0           2   \n",
       "2           16           0           2   \n",
       "3           16           0           3   \n",
       "4           16           0           4   \n",
       "\n",
       "   ip_dayofclick_hourofclick_count_channel  ip_app_count_channel  \\\n",
       "0                                        1                     1   \n",
       "1                                        1                    58   \n",
       "2                                        8                    16   \n",
       "3                                        1                     2   \n",
       "4                                        1                     4   \n",
       "\n",
       "   ip_app_os_count_channel  ip_app_dayofclick_hourofclick_count_channel  \\\n",
       "0                        1                                            1   \n",
       "1                        2                                            1   \n",
       "2                        3                                            2   \n",
       "3                        1                                            1   \n",
       "4                        1                                            1   \n",
       "\n",
       "   ip_app_channel_mean_hourofclick  app_AvgViewPerDistinct_ip  \\\n",
       "0                            15.00                   2.228382   \n",
       "1                             9.00                  34.891723   \n",
       "2                             7.25                   2.228382   \n",
       "3                            16.00                   2.228382   \n",
       "4                            16.00                   2.228382   \n",
       "\n",
       "   app_count_channel  channel_count_app  \n",
       "0              68057              70263  \n",
       "1            3257910             282562  \n",
       "2              68057              70263  \n",
       "3              68057              27476  \n",
       "4              68057              27476  "
      ]
     },
     "execution_count": 34,
     "metadata": {},
     "output_type": "execute_result"
    }
   ],
   "source": [
    "merge.head()"
   ]
  },
  {
   "cell_type": "code",
   "execution_count": 35,
   "metadata": {
    "collapsed": false
   },
   "outputs": [
    {
     "data": {
      "text/plain": [
       "167"
      ]
     },
     "execution_count": 35,
     "metadata": {},
     "output_type": "execute_result"
    }
   ],
   "source": [
    "import gc\n",
    "gc.collect()"
   ]
  },
  {
   "cell_type": "code",
   "execution_count": 36,
   "metadata": {
    "collapsed": false
   },
   "outputs": [],
   "source": [
    "def timebtwClicks(df):\n",
    "    GROUP_BY_NEXT_CLICKS = [\n",
    "        {'groupby': ['ip']},\n",
    "    {'groupby': ['ip', 'app']},\n",
    "    {'groupby': ['ip', 'channel']},\n",
    "    {'groupby': ['ip', 'os']},\n",
    "    ]\n",
    "\n",
    "# Calculate the time to next click for each group\n",
    "    for spec in GROUP_BY_NEXT_CLICKS:\n",
    "    \n",
    "    # Name of new feature\n",
    "        new_feature = '{}_nextClick'.format('_'.join(spec['groupby']))    \n",
    "    \n",
    "    # Unique list of features to select\n",
    "        all_features = spec['groupby'] + ['click_time']\n",
    "    \n",
    "    # Run calculation\n",
    "        print(\">> Grouping by {spec['groupby']}, and saving time to next click in: {new_feature}\")\n",
    "        df[new_feature] = df[all_features].groupby(spec['groupby']).click_time.transform(lambda x: x.diff().shift(-1)).dt.second\n",
    "    \n",
    "    return df"
   ]
  },
  {
   "cell_type": "code",
   "execution_count": 37,
   "metadata": {
    "collapsed": false
   },
   "outputs": [
    {
     "name": "stdout",
     "output_type": "stream",
     "text": [
      ">> Grouping by {spec['groupby']}, and saving time to next click in: {new_feature}\n",
      ">> Grouping by {spec['groupby']}, and saving time to next click in: {new_feature}\n",
      ">> Grouping by {spec['groupby']}, and saving time to next click in: {new_feature}\n",
      ">> Grouping by {spec['groupby']}, and saving time to next click in: {new_feature}\n"
     ]
    }
   ],
   "source": [
    "merge = timebtwClicks(merge)"
   ]
  },
  {
   "cell_type": "code",
   "execution_count": 38,
   "metadata": {
    "collapsed": false
   },
   "outputs": [
    {
     "data": {
      "text/html": [
       "<div>\n",
       "<table border=\"1\" class=\"dataframe\">\n",
       "  <thead>\n",
       "    <tr style=\"text-align: right;\">\n",
       "      <th></th>\n",
       "      <th>ip</th>\n",
       "      <th>app</th>\n",
       "      <th>device</th>\n",
       "      <th>os</th>\n",
       "      <th>channel</th>\n",
       "      <th>click_time</th>\n",
       "      <th>dayofclick</th>\n",
       "      <th>hourofclick</th>\n",
       "      <th>minofclick</th>\n",
       "      <th>secofclick</th>\n",
       "      <th>...</th>\n",
       "      <th>ip_app_os_count_channel</th>\n",
       "      <th>ip_app_dayofclick_hourofclick_count_channel</th>\n",
       "      <th>ip_app_channel_mean_hourofclick</th>\n",
       "      <th>app_AvgViewPerDistinct_ip</th>\n",
       "      <th>app_count_channel</th>\n",
       "      <th>channel_count_app</th>\n",
       "      <th>ip_nextClick</th>\n",
       "      <th>ip_app_nextClick</th>\n",
       "      <th>ip_channel_nextClick</th>\n",
       "      <th>ip_os_nextClick</th>\n",
       "    </tr>\n",
       "  </thead>\n",
       "  <tbody>\n",
       "    <tr>\n",
       "      <th>0</th>\n",
       "      <td>204158</td>\n",
       "      <td>35</td>\n",
       "      <td>1</td>\n",
       "      <td>13</td>\n",
       "      <td>21</td>\n",
       "      <td>2017-11-06 15:41:07</td>\n",
       "      <td>6</td>\n",
       "      <td>15</td>\n",
       "      <td>41</td>\n",
       "      <td>7</td>\n",
       "      <td>...</td>\n",
       "      <td>1</td>\n",
       "      <td>1</td>\n",
       "      <td>15.00</td>\n",
       "      <td>2.228382</td>\n",
       "      <td>68057</td>\n",
       "      <td>70263</td>\n",
       "      <td>17.0</td>\n",
       "      <td>NaN</td>\n",
       "      <td>NaN</td>\n",
       "      <td>17.0</td>\n",
       "    </tr>\n",
       "    <tr>\n",
       "      <th>1</th>\n",
       "      <td>29692</td>\n",
       "      <td>9</td>\n",
       "      <td>1</td>\n",
       "      <td>22</td>\n",
       "      <td>215</td>\n",
       "      <td>2017-11-06 16:00:02</td>\n",
       "      <td>6</td>\n",
       "      <td>16</td>\n",
       "      <td>0</td>\n",
       "      <td>2</td>\n",
       "      <td>...</td>\n",
       "      <td>2</td>\n",
       "      <td>1</td>\n",
       "      <td>9.00</td>\n",
       "      <td>34.891723</td>\n",
       "      <td>3257910</td>\n",
       "      <td>282562</td>\n",
       "      <td>4.0</td>\n",
       "      <td>46.0</td>\n",
       "      <td>30.0</td>\n",
       "      <td>16.0</td>\n",
       "    </tr>\n",
       "    <tr>\n",
       "      <th>2</th>\n",
       "      <td>64516</td>\n",
       "      <td>35</td>\n",
       "      <td>1</td>\n",
       "      <td>13</td>\n",
       "      <td>21</td>\n",
       "      <td>2017-11-06 16:00:02</td>\n",
       "      <td>6</td>\n",
       "      <td>16</td>\n",
       "      <td>0</td>\n",
       "      <td>2</td>\n",
       "      <td>...</td>\n",
       "      <td>3</td>\n",
       "      <td>2</td>\n",
       "      <td>7.25</td>\n",
       "      <td>2.228382</td>\n",
       "      <td>68057</td>\n",
       "      <td>70263</td>\n",
       "      <td>52.0</td>\n",
       "      <td>52.0</td>\n",
       "      <td>52.0</td>\n",
       "      <td>28.0</td>\n",
       "    </tr>\n",
       "    <tr>\n",
       "      <th>3</th>\n",
       "      <td>172429</td>\n",
       "      <td>35</td>\n",
       "      <td>1</td>\n",
       "      <td>46</td>\n",
       "      <td>274</td>\n",
       "      <td>2017-11-06 16:00:03</td>\n",
       "      <td>6</td>\n",
       "      <td>16</td>\n",
       "      <td>0</td>\n",
       "      <td>3</td>\n",
       "      <td>...</td>\n",
       "      <td>1</td>\n",
       "      <td>1</td>\n",
       "      <td>16.00</td>\n",
       "      <td>2.228382</td>\n",
       "      <td>68057</td>\n",
       "      <td>27476</td>\n",
       "      <td>25.0</td>\n",
       "      <td>25.0</td>\n",
       "      <td>NaN</td>\n",
       "      <td>NaN</td>\n",
       "    </tr>\n",
       "    <tr>\n",
       "      <th>4</th>\n",
       "      <td>199085</td>\n",
       "      <td>35</td>\n",
       "      <td>1</td>\n",
       "      <td>13</td>\n",
       "      <td>274</td>\n",
       "      <td>2017-11-06 16:00:04</td>\n",
       "      <td>6</td>\n",
       "      <td>16</td>\n",
       "      <td>0</td>\n",
       "      <td>4</td>\n",
       "      <td>...</td>\n",
       "      <td>1</td>\n",
       "      <td>1</td>\n",
       "      <td>16.00</td>\n",
       "      <td>2.228382</td>\n",
       "      <td>68057</td>\n",
       "      <td>27476</td>\n",
       "      <td>21.0</td>\n",
       "      <td>21.0</td>\n",
       "      <td>21.0</td>\n",
       "      <td>58.0</td>\n",
       "    </tr>\n",
       "  </tbody>\n",
       "</table>\n",
       "<p>5 rows × 22 columns</p>\n",
       "</div>"
      ],
      "text/plain": [
       "       ip  app  device  os  channel          click_time  dayofclick  \\\n",
       "0  204158   35       1  13       21 2017-11-06 15:41:07           6   \n",
       "1   29692    9       1  22      215 2017-11-06 16:00:02           6   \n",
       "2   64516   35       1  13       21 2017-11-06 16:00:02           6   \n",
       "3  172429   35       1  46      274 2017-11-06 16:00:03           6   \n",
       "4  199085   35       1  13      274 2017-11-06 16:00:04           6   \n",
       "\n",
       "   hourofclick  minofclick  secofclick       ...         \\\n",
       "0           15          41           7       ...          \n",
       "1           16           0           2       ...          \n",
       "2           16           0           2       ...          \n",
       "3           16           0           3       ...          \n",
       "4           16           0           4       ...          \n",
       "\n",
       "   ip_app_os_count_channel  ip_app_dayofclick_hourofclick_count_channel  \\\n",
       "0                        1                                            1   \n",
       "1                        2                                            1   \n",
       "2                        3                                            2   \n",
       "3                        1                                            1   \n",
       "4                        1                                            1   \n",
       "\n",
       "   ip_app_channel_mean_hourofclick  app_AvgViewPerDistinct_ip  \\\n",
       "0                            15.00                   2.228382   \n",
       "1                             9.00                  34.891723   \n",
       "2                             7.25                   2.228382   \n",
       "3                            16.00                   2.228382   \n",
       "4                            16.00                   2.228382   \n",
       "\n",
       "   app_count_channel  channel_count_app  ip_nextClick  ip_app_nextClick  \\\n",
       "0              68057              70263          17.0               NaN   \n",
       "1            3257910             282562           4.0              46.0   \n",
       "2              68057              70263          52.0              52.0   \n",
       "3              68057              27476          25.0              25.0   \n",
       "4              68057              27476          21.0              21.0   \n",
       "\n",
       "   ip_channel_nextClick  ip_os_nextClick  \n",
       "0                   NaN             17.0  \n",
       "1                  30.0             16.0  \n",
       "2                  52.0             28.0  \n",
       "3                   NaN              NaN  \n",
       "4                  21.0             58.0  \n",
       "\n",
       "[5 rows x 22 columns]"
      ]
     },
     "execution_count": 38,
     "metadata": {},
     "output_type": "execute_result"
    }
   ],
   "source": [
    "merge.head()"
   ]
  },
  {
   "cell_type": "code",
   "execution_count": 39,
   "metadata": {
    "collapsed": false
   },
   "outputs": [],
   "source": [
    "merge=merge.drop('click_time',axis=1)"
   ]
  },
  {
   "cell_type": "code",
   "execution_count": 40,
   "metadata": {
    "collapsed": false
   },
   "outputs": [
    {
     "data": {
      "text/plain": [
       "Index(['ip', 'app', 'device', 'os', 'channel', 'dayofclick', 'hourofclick',\n",
       "       'minofclick', 'secofclick', 'ip_dayofclick_hourofclick_count_channel',\n",
       "       'ip_app_count_channel', 'ip_app_os_count_channel',\n",
       "       'ip_app_dayofclick_hourofclick_count_channel',\n",
       "       'ip_app_channel_mean_hourofclick', 'app_AvgViewPerDistinct_ip',\n",
       "       'app_count_channel', 'channel_count_app', 'ip_nextClick',\n",
       "       'ip_app_nextClick', 'ip_channel_nextClick', 'ip_os_nextClick'],\n",
       "      dtype='object')"
      ]
     },
     "execution_count": 40,
     "metadata": {},
     "output_type": "execute_result"
    }
   ],
   "source": [
    "merge.columns"
   ]
  },
  {
   "cell_type": "code",
   "execution_count": 41,
   "metadata": {
    "collapsed": false
   },
   "outputs": [],
   "source": [
    "train = merge[:nrow_train]\n",
    "test = merge[nrow_train:]"
   ]
  },
  {
   "cell_type": "code",
   "execution_count": 42,
   "metadata": {
    "collapsed": false
   },
   "outputs": [
    {
     "data": {
      "text/plain": [
       "544"
      ]
     },
     "execution_count": 42,
     "metadata": {},
     "output_type": "execute_result"
    }
   ],
   "source": [
    "del merge\n",
    "gc.collect()"
   ]
  },
  {
   "cell_type": "code",
   "execution_count": 43,
   "metadata": {
    "collapsed": false
   },
   "outputs": [
    {
     "data": {
      "text/plain": [
       "(4568460, 21)"
      ]
     },
     "execution_count": 43,
     "metadata": {},
     "output_type": "execute_result"
    }
   ],
   "source": [
    "train.shape"
   ]
  },
  {
   "cell_type": "code",
   "execution_count": 44,
   "metadata": {
    "collapsed": false
   },
   "outputs": [
    {
     "data": {
      "text/plain": [
       "(18790469, 21)"
      ]
     },
     "execution_count": 44,
     "metadata": {},
     "output_type": "execute_result"
    }
   ],
   "source": [
    "test.shape"
   ]
  },
  {
   "cell_type": "code",
   "execution_count": 45,
   "metadata": {
    "collapsed": false
   },
   "outputs": [],
   "source": [
    "from sklearn.cross_validation import train_test_split \n",
    "import xgboost as xgb"
   ]
  },
  {
   "cell_type": "code",
   "execution_count": 46,
   "metadata": {
    "collapsed": false
   },
   "outputs": [
    {
     "name": "stdout",
     "output_type": "stream",
     "text": [
      "[0]\ttrain-auc:0.941878\tvalid-auc:0.941516\n",
      "Multiple eval metrics have been passed: 'valid-auc' will be used for early stopping.\n",
      "\n",
      "Will train until valid-auc hasn't improved in 50 rounds.\n",
      "[10]\ttrain-auc:0.956079\tvalid-auc:0.956244\n",
      "[20]\ttrain-auc:0.960342\tvalid-auc:0.960214\n",
      "[30]\ttrain-auc:0.963412\tvalid-auc:0.96325\n",
      "[40]\ttrain-auc:0.965731\tvalid-auc:0.96559\n",
      "[50]\ttrain-auc:0.966919\tvalid-auc:0.966716\n",
      "[60]\ttrain-auc:0.968078\tvalid-auc:0.967845\n",
      "[70]\ttrain-auc:0.968965\tvalid-auc:0.968701\n",
      "[80]\ttrain-auc:0.969688\tvalid-auc:0.969387\n",
      "[90]\ttrain-auc:0.970176\tvalid-auc:0.969856\n",
      "[100]\ttrain-auc:0.970596\tvalid-auc:0.970257\n",
      "[110]\ttrain-auc:0.970997\tvalid-auc:0.970617\n",
      "[120]\ttrain-auc:0.971443\tvalid-auc:0.971052\n",
      "[130]\ttrain-auc:0.971781\tvalid-auc:0.971376\n",
      "[140]\ttrain-auc:0.972164\tvalid-auc:0.971739\n",
      "[150]\ttrain-auc:0.972475\tvalid-auc:0.972028\n",
      "[160]\ttrain-auc:0.972675\tvalid-auc:0.972216\n",
      "[170]\ttrain-auc:0.972949\tvalid-auc:0.972439\n",
      "[180]\ttrain-auc:0.973163\tvalid-auc:0.972634\n",
      "[190]\ttrain-auc:0.973358\tvalid-auc:0.972832\n",
      "[200]\ttrain-auc:0.97357\tvalid-auc:0.973025\n",
      "[210]\ttrain-auc:0.973696\tvalid-auc:0.973131\n",
      "[220]\ttrain-auc:0.973844\tvalid-auc:0.973263\n",
      "[230]\ttrain-auc:0.973985\tvalid-auc:0.973386\n",
      "[240]\ttrain-auc:0.97417\tvalid-auc:0.973554\n",
      "[250]\ttrain-auc:0.974286\tvalid-auc:0.973654\n",
      "[260]\ttrain-auc:0.974386\tvalid-auc:0.973736\n",
      "[270]\ttrain-auc:0.974487\tvalid-auc:0.97383\n",
      "[280]\ttrain-auc:0.974584\tvalid-auc:0.973915\n",
      "[290]\ttrain-auc:0.974693\tvalid-auc:0.974024\n",
      "[300]\ttrain-auc:0.974775\tvalid-auc:0.974091\n",
      "[310]\ttrain-auc:0.974886\tvalid-auc:0.974173\n",
      "[320]\ttrain-auc:0.974982\tvalid-auc:0.974245\n",
      "[330]\ttrain-auc:0.975063\tvalid-auc:0.974304\n",
      "[340]\ttrain-auc:0.975163\tvalid-auc:0.974393\n",
      "[350]\ttrain-auc:0.975244\tvalid-auc:0.97446\n",
      "[360]\ttrain-auc:0.97532\tvalid-auc:0.974528\n",
      "[370]\ttrain-auc:0.975388\tvalid-auc:0.974575\n",
      "[380]\ttrain-auc:0.975471\tvalid-auc:0.974644\n",
      "[390]\ttrain-auc:0.975535\tvalid-auc:0.974692\n",
      "[400]\ttrain-auc:0.975612\tvalid-auc:0.974753\n",
      "[410]\ttrain-auc:0.975704\tvalid-auc:0.974835\n",
      "[420]\ttrain-auc:0.975769\tvalid-auc:0.974882\n",
      "[430]\ttrain-auc:0.975815\tvalid-auc:0.974908\n",
      "[440]\ttrain-auc:0.975885\tvalid-auc:0.974959\n",
      "[450]\ttrain-auc:0.975931\tvalid-auc:0.974993\n",
      "[460]\ttrain-auc:0.975983\tvalid-auc:0.975023\n",
      "[470]\ttrain-auc:0.976042\tvalid-auc:0.975068\n",
      "[480]\ttrain-auc:0.976086\tvalid-auc:0.975103\n",
      "[490]\ttrain-auc:0.976126\tvalid-auc:0.975131\n",
      "[499]\ttrain-auc:0.976183\tvalid-auc:0.975165\n"
     ]
    },
    {
     "data": {
      "text/plain": [
       "21"
      ]
     },
     "execution_count": 46,
     "metadata": {},
     "output_type": "execute_result"
    }
   ],
   "source": [
    "params = {'eta': 0.1, # learning rate\n",
    "          'tree_method': \"auto\", \n",
    "          'max_depth': 4, \n",
    "          'subsample': 0.8, \n",
    "          'colsample_bytree': 0.7, \n",
    "          'colsample_bylevel':0.7,\n",
    "          'min_child_weight':0,\n",
    "          'alpha':4,\n",
    "          'objective': 'binary:logistic', \n",
    "          'scale_pos_weight':9,\n",
    "          'eval_metric': 'auc', \n",
    "          'random_state': 99,\n",
    "          #'threads': 8,\n",
    "          'silent': True}\n",
    "          \n",
    "x1, x2, y1, y2 = train_test_split(train, Y, test_size=0.1)\n",
    "del train\n",
    "del Y\n",
    "\n",
    "gc.collect()\n",
    "\n",
    "dtrain = xgb.DMatrix(x1, y1)\n",
    "del x1, y1\n",
    "gc.collect()\n",
    "\n",
    "dvalid = xgb.DMatrix(x2, y2)\n",
    "del x2, y2\n",
    "gc.collect()\n",
    "\n",
    "watchlist = [(dtrain, 'train'), (dvalid, 'valid')]\n",
    "model = xgb.train(params, dtrain, 500, watchlist, maximize=True, early_stopping_rounds=50, verbose_eval=10)\n",
    "del dtrain\n",
    "del dvalid\n",
    "gc.collect()\n"
   ]
  },
  {
   "cell_type": "code",
   "execution_count": 47,
   "metadata": {
    "collapsed": false
   },
   "outputs": [
    {
     "data": {
      "text/plain": [
       "0"
      ]
     },
     "execution_count": 47,
     "metadata": {},
     "output_type": "execute_result"
    }
   ],
   "source": [
    "gc.collect()"
   ]
  },
  {
   "cell_type": "code",
   "execution_count": 48,
   "metadata": {
    "collapsed": true
   },
   "outputs": [],
   "source": [
    "import pickle"
   ]
  },
  {
   "cell_type": "code",
   "execution_count": 49,
   "metadata": {
    "collapsed": true
   },
   "outputs": [],
   "source": [
    "pickle.dump(model, open('xgboost_trainsamplediffparams.pkl', 'wb'))"
   ]
  },
  {
   "cell_type": "code",
   "execution_count": 50,
   "metadata": {
    "collapsed": false
   },
   "outputs": [
    {
     "name": "stdout",
     "output_type": "stream",
     "text": [
      "<class 'pandas.core.frame.DataFrame'>\n",
      "Int64Index: 18790469 entries, 4568460 to 23358928\n",
      "Data columns (total 21 columns):\n",
      "ip                                             uint32\n",
      "app                                            uint16\n",
      "device                                         uint16\n",
      "os                                             uint16\n",
      "channel                                        uint16\n",
      "dayofclick                                     uint8\n",
      "hourofclick                                    uint8\n",
      "minofclick                                     uint8\n",
      "secofclick                                     uint8\n",
      "ip_dayofclick_hourofclick_count_channel        int64\n",
      "ip_app_count_channel                           int64\n",
      "ip_app_os_count_channel                        int64\n",
      "ip_app_dayofclick_hourofclick_count_channel    int64\n",
      "ip_app_channel_mean_hourofclick                float64\n",
      "app_AvgViewPerDistinct_ip                      float64\n",
      "app_count_channel                              int64\n",
      "channel_count_app                              int64\n",
      "ip_nextClick                                   float64\n",
      "ip_app_nextClick                               float64\n",
      "ip_channel_nextClick                           float64\n",
      "ip_os_nextClick                                float64\n",
      "dtypes: float64(6), int64(6), uint16(4), uint32(1), uint8(4)\n",
      "memory usage: 2.1 GB\n"
     ]
    }
   ],
   "source": [
    "test.info()"
   ]
  },
  {
   "cell_type": "code",
   "execution_count": 51,
   "metadata": {
    "collapsed": true
   },
   "outputs": [],
   "source": [
    "#test.to_csv('test_withmerge.csv',index=False)"
   ]
  },
  {
   "cell_type": "code",
   "execution_count": 52,
   "metadata": {
    "collapsed": false
   },
   "outputs": [
    {
     "data": {
      "text/plain": [
       "33"
      ]
     },
     "execution_count": 52,
     "metadata": {},
     "output_type": "execute_result"
    }
   ],
   "source": [
    "dtest = xgb.DMatrix(test)\n",
    "del test\n",
    "gc.collect()"
   ]
  },
  {
   "cell_type": "code",
   "execution_count": 53,
   "metadata": {
    "collapsed": false
   },
   "outputs": [],
   "source": [
    "testdata= pd.read_csv('test.csv',parse_dates=['click_time'],dtype=dtypes)\n",
    "sub = pd.DataFrame()\n",
    "sub['click_id'] = testdata['click_id']\n",
    "sub['is_attributed'] = model.predict(dtest, ntree_limit=model.best_ntree_limit)\n",
    "sub.to_csv('xgbts_merge_withdiffparams.csv',index=False)"
   ]
  },
  {
   "cell_type": "code",
   "execution_count": null,
   "metadata": {
    "collapsed": true
   },
   "outputs": [],
   "source": []
  }
 ],
 "metadata": {
  "kernelspec": {
   "display_name": "Python 3",
   "language": "python",
   "name": "python3"
  },
  "language_info": {
   "codemirror_mode": {
    "name": "ipython",
    "version": 3
   },
   "file_extension": ".py",
   "mimetype": "text/x-python",
   "name": "python",
   "nbconvert_exporter": "python",
   "pygments_lexer": "ipython3",
   "version": "3.5.1"
  }
 },
 "nbformat": 4,
 "nbformat_minor": 0
}
