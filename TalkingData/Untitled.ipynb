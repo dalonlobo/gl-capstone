{
 "cells": [
  {
   "cell_type": "code",
   "execution_count": 6,
   "metadata": {
    "collapsed": false
   },
   "outputs": [
    {
     "name": "stdout",
     "output_type": "stream",
     "text": [
      "total time taken \n",
      "1531.0625042915344\n"
     ]
    }
   ],
   "source": [
    "import re\n",
    "import time\n",
    "import os\n",
    "import csv\n",
    "#os.chdir(\"your directory path\") your directory path  \n",
    "# defining pattern to identify time and date from click_time\n",
    "pattern = r'\\s*\\d+-\\d+-(\\d+)\\s+(\\d+):\\d+:\\d+'\n",
    "pattern_regex = re.compile(pattern)\n",
    "\n",
    "# connecting and creating the SQLite database\n",
    "\n",
    "\n",
    "# reading the file line by line\n",
    "i = 0\n",
    "start = time.time()\n",
    "with open('PreprocessedTraining.csv', \"w\") as csv_file:\n",
    "    for line in open(\"data/mnt/ssd/kaggle-talkingdata2/competition_files/train.csv\"):\n",
    "        if i == 0:\n",
    "            i += 1\n",
    "            continue\n",
    "        csv_row = line.split(',')\n",
    "    #finding date and hr from click_time\n",
    "        result = pattern_regex.findall(csv_row[5])\n",
    "        i += 1\n",
    "    #print(\"Inserting line no :\" + str(i))\n",
    "        line=csv_row[0]+','+csv_row[1]+','+csv_row[2]+','+csv_row[3]+','+csv_row[4]+','+result[0][0]+','+result[0][1]+','+csv_row[7]\n",
    "        csv_file.write(line)\n",
    "#conn.commit()\n",
    "#c.close()\n",
    "#conn.close()\n",
    "\n",
    "end = time.time()\n",
    "print(\"total time taken \")\n",
    "print(end - start)\n",
    "#\"2553.701733112335\""
   ]
  },
  {
   "cell_type": "code",
   "execution_count": null,
   "metadata": {
    "collapsed": true
   },
   "outputs": [],
   "source": []
  }
 ],
 "metadata": {
  "kernelspec": {
   "display_name": "Python 3",
   "language": "python",
   "name": "python3"
  },
  "language_info": {
   "codemirror_mode": {
    "name": "ipython",
    "version": 3
   },
   "file_extension": ".py",
   "mimetype": "text/x-python",
   "name": "python",
   "nbconvert_exporter": "python",
   "pygments_lexer": "ipython3",
   "version": "3.5.2"
  }
 },
 "nbformat": 4,
 "nbformat_minor": 2
}
