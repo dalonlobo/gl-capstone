{
 "cells": [
  {
   "cell_type": "code",
   "execution_count": 1,
   "metadata": {
    "collapsed": true,
    "deletable": true,
    "editable": true
   },
   "outputs": [],
   "source": [
    "from __future__ import print_function\n",
    "import pandas as pd\n",
    "import time\n",
    "import numpy as np\n",
    "from sklearn.model_selection import train_test_split\n",
    "import gc\n",
    "import matplotlib.pyplot as plt\n",
    "import os\n",
    "\n",
    "%matplotlib inline"
   ]
  },
  {
   "cell_type": "code",
   "execution_count": 2,
   "metadata": {
    "collapsed": false,
    "deletable": true,
    "editable": true
   },
   "outputs": [
    {
     "name": "stdout",
     "output_type": "stream",
     "text": [
      "[120.979460001] Finished to load data\n"
     ]
    }
   ],
   "source": [
    "start_time = time.time()\n",
    "\n",
    "train_columns = ['ip', 'app', 'device', 'os', 'channel', 'click_time', 'is_attributed']\n",
    "dtypes = {\n",
    "        'ip'            : 'uint32',\n",
    "        'app'           : 'uint16',\n",
    "        'device'        : 'uint16',\n",
    "        'os'            : 'uint16',\n",
    "        'channel'       : 'uint16',\n",
    "        'is_attributed' : 'uint8',\n",
    "        'click_id'      : 'uint32'\n",
    "        }\n",
    "\n",
    "# Read the last lines because they are more impacting in training than the starting lines\n",
    "train = pd.read_csv(\"train.csv\", parse_dates=['click_time'], skiprows=range(1,123903891), nrows=60000000, usecols=train_columns, dtype=dtypes)\n",
    "\n",
    "print('[{}] Finished to load data'.format(time.time() - start_time))\n"
   ]
  },
  {
   "cell_type": "code",
   "execution_count": 3,
   "metadata": {
    "collapsed": true,
    "deletable": true,
    "editable": true
   },
   "outputs": [],
   "source": [
    "test = pd.read_csv(\"test.csv\", parse_dates=['click_time'], dtype=dtypes, usecols=['ip','app','device','os', 'channel', 'click_time', 'click_id'])"
   ]
  },
  {
   "cell_type": "code",
   "execution_count": 4,
   "metadata": {
    "collapsed": false,
    "deletable": true,
    "editable": true
   },
   "outputs": [
    {
     "data": {
      "text/html": [
       "<div>\n",
       "<style>\n",
       "    .dataframe thead tr:only-child th {\n",
       "        text-align: right;\n",
       "    }\n",
       "\n",
       "    .dataframe thead th {\n",
       "        text-align: left;\n",
       "    }\n",
       "\n",
       "    .dataframe tbody tr th {\n",
       "        vertical-align: top;\n",
       "    }\n",
       "</style>\n",
       "<table border=\"1\" class=\"dataframe\">\n",
       "  <thead>\n",
       "    <tr style=\"text-align: right;\">\n",
       "      <th></th>\n",
       "      <th>ip</th>\n",
       "      <th>app</th>\n",
       "      <th>device</th>\n",
       "      <th>os</th>\n",
       "      <th>channel</th>\n",
       "      <th>click_time</th>\n",
       "      <th>is_attributed</th>\n",
       "    </tr>\n",
       "  </thead>\n",
       "  <tbody>\n",
       "    <tr>\n",
       "      <th>0</th>\n",
       "      <td>210014</td>\n",
       "      <td>9</td>\n",
       "      <td>1</td>\n",
       "      <td>13</td>\n",
       "      <td>334</td>\n",
       "      <td>2017-11-08 16:41:52</td>\n",
       "      <td>0</td>\n",
       "    </tr>\n",
       "    <tr>\n",
       "      <th>1</th>\n",
       "      <td>2076</td>\n",
       "      <td>3</td>\n",
       "      <td>1</td>\n",
       "      <td>32</td>\n",
       "      <td>211</td>\n",
       "      <td>2017-11-08 16:41:52</td>\n",
       "      <td>0</td>\n",
       "    </tr>\n",
       "    <tr>\n",
       "      <th>2</th>\n",
       "      <td>296481</td>\n",
       "      <td>9</td>\n",
       "      <td>1</td>\n",
       "      <td>19</td>\n",
       "      <td>232</td>\n",
       "      <td>2017-11-08 16:41:52</td>\n",
       "      <td>0</td>\n",
       "    </tr>\n",
       "    <tr>\n",
       "      <th>3</th>\n",
       "      <td>33473</td>\n",
       "      <td>15</td>\n",
       "      <td>1</td>\n",
       "      <td>13</td>\n",
       "      <td>245</td>\n",
       "      <td>2017-11-08 16:41:52</td>\n",
       "      <td>0</td>\n",
       "    </tr>\n",
       "    <tr>\n",
       "      <th>4</th>\n",
       "      <td>115014</td>\n",
       "      <td>3</td>\n",
       "      <td>1</td>\n",
       "      <td>13</td>\n",
       "      <td>137</td>\n",
       "      <td>2017-11-08 16:41:52</td>\n",
       "      <td>0</td>\n",
       "    </tr>\n",
       "  </tbody>\n",
       "</table>\n",
       "</div>"
      ],
      "text/plain": [
       "       ip  app  device  os  channel          click_time  is_attributed\n",
       "0  210014    9       1  13      334 2017-11-08 16:41:52              0\n",
       "1    2076    3       1  32      211 2017-11-08 16:41:52              0\n",
       "2  296481    9       1  19      232 2017-11-08 16:41:52              0\n",
       "3   33473   15       1  13      245 2017-11-08 16:41:52              0\n",
       "4  115014    3       1  13      137 2017-11-08 16:41:52              0"
      ]
     },
     "execution_count": 4,
     "metadata": {},
     "output_type": "execute_result"
    }
   ],
   "source": [
    "train.head()"
   ]
  },
  {
   "cell_type": "code",
   "execution_count": 5,
   "metadata": {
    "collapsed": false,
    "deletable": true,
    "editable": true
   },
   "outputs": [
    {
     "data": {
      "text/html": [
       "<div>\n",
       "<style>\n",
       "    .dataframe thead tr:only-child th {\n",
       "        text-align: right;\n",
       "    }\n",
       "\n",
       "    .dataframe thead th {\n",
       "        text-align: left;\n",
       "    }\n",
       "\n",
       "    .dataframe tbody tr th {\n",
       "        vertical-align: top;\n",
       "    }\n",
       "</style>\n",
       "<table border=\"1\" class=\"dataframe\">\n",
       "  <thead>\n",
       "    <tr style=\"text-align: right;\">\n",
       "      <th></th>\n",
       "      <th>click_id</th>\n",
       "      <th>ip</th>\n",
       "      <th>app</th>\n",
       "      <th>device</th>\n",
       "      <th>os</th>\n",
       "      <th>channel</th>\n",
       "      <th>click_time</th>\n",
       "    </tr>\n",
       "  </thead>\n",
       "  <tbody>\n",
       "    <tr>\n",
       "      <th>0</th>\n",
       "      <td>0</td>\n",
       "      <td>5744</td>\n",
       "      <td>9</td>\n",
       "      <td>1</td>\n",
       "      <td>3</td>\n",
       "      <td>107</td>\n",
       "      <td>2017-11-10 04:00:00</td>\n",
       "    </tr>\n",
       "    <tr>\n",
       "      <th>1</th>\n",
       "      <td>1</td>\n",
       "      <td>119901</td>\n",
       "      <td>9</td>\n",
       "      <td>1</td>\n",
       "      <td>3</td>\n",
       "      <td>466</td>\n",
       "      <td>2017-11-10 04:00:00</td>\n",
       "    </tr>\n",
       "    <tr>\n",
       "      <th>2</th>\n",
       "      <td>2</td>\n",
       "      <td>72287</td>\n",
       "      <td>21</td>\n",
       "      <td>1</td>\n",
       "      <td>19</td>\n",
       "      <td>128</td>\n",
       "      <td>2017-11-10 04:00:00</td>\n",
       "    </tr>\n",
       "    <tr>\n",
       "      <th>3</th>\n",
       "      <td>3</td>\n",
       "      <td>78477</td>\n",
       "      <td>15</td>\n",
       "      <td>1</td>\n",
       "      <td>13</td>\n",
       "      <td>111</td>\n",
       "      <td>2017-11-10 04:00:00</td>\n",
       "    </tr>\n",
       "    <tr>\n",
       "      <th>4</th>\n",
       "      <td>4</td>\n",
       "      <td>123080</td>\n",
       "      <td>12</td>\n",
       "      <td>1</td>\n",
       "      <td>13</td>\n",
       "      <td>328</td>\n",
       "      <td>2017-11-10 04:00:00</td>\n",
       "    </tr>\n",
       "  </tbody>\n",
       "</table>\n",
       "</div>"
      ],
      "text/plain": [
       "   click_id      ip  app  device  os  channel          click_time\n",
       "0         0    5744    9       1   3      107 2017-11-10 04:00:00\n",
       "1         1  119901    9       1   3      466 2017-11-10 04:00:00\n",
       "2         2   72287   21       1  19      128 2017-11-10 04:00:00\n",
       "3         3   78477   15       1  13      111 2017-11-10 04:00:00\n",
       "4         4  123080   12       1  13      328 2017-11-10 04:00:00"
      ]
     },
     "execution_count": 5,
     "metadata": {},
     "output_type": "execute_result"
    }
   ],
   "source": [
    "test.head()"
   ]
  },
  {
   "cell_type": "code",
   "execution_count": 6,
   "metadata": {
    "collapsed": true,
    "deletable": true,
    "editable": true
   },
   "outputs": [],
   "source": [
    "len_train = len(train)\n",
    "train=train.append(test)"
   ]
  },
  {
   "cell_type": "code",
   "execution_count": 7,
   "metadata": {
    "collapsed": false,
    "deletable": true,
    "editable": true
   },
   "outputs": [
    {
     "data": {
      "text/plain": [
       "386"
      ]
     },
     "execution_count": 7,
     "metadata": {},
     "output_type": "execute_result"
    }
   ],
   "source": [
    "del test\n",
    "gc.collect()"
   ]
  },
  {
   "cell_type": "code",
   "execution_count": 8,
   "metadata": {
    "collapsed": false,
    "deletable": true,
    "editable": true
   },
   "outputs": [
    {
     "data": {
      "text/html": [
       "<div>\n",
       "<style>\n",
       "    .dataframe thead tr:only-child th {\n",
       "        text-align: right;\n",
       "    }\n",
       "\n",
       "    .dataframe thead th {\n",
       "        text-align: left;\n",
       "    }\n",
       "\n",
       "    .dataframe tbody tr th {\n",
       "        vertical-align: top;\n",
       "    }\n",
       "</style>\n",
       "<table border=\"1\" class=\"dataframe\">\n",
       "  <thead>\n",
       "    <tr style=\"text-align: right;\">\n",
       "      <th></th>\n",
       "      <th>app</th>\n",
       "      <th>channel</th>\n",
       "      <th>click_id</th>\n",
       "      <th>click_time</th>\n",
       "      <th>device</th>\n",
       "      <th>ip</th>\n",
       "      <th>is_attributed</th>\n",
       "      <th>os</th>\n",
       "    </tr>\n",
       "  </thead>\n",
       "  <tbody>\n",
       "    <tr>\n",
       "      <th>0</th>\n",
       "      <td>9</td>\n",
       "      <td>334</td>\n",
       "      <td>NaN</td>\n",
       "      <td>2017-11-08 16:41:52</td>\n",
       "      <td>1</td>\n",
       "      <td>210014</td>\n",
       "      <td>0.0</td>\n",
       "      <td>13</td>\n",
       "    </tr>\n",
       "    <tr>\n",
       "      <th>1</th>\n",
       "      <td>3</td>\n",
       "      <td>211</td>\n",
       "      <td>NaN</td>\n",
       "      <td>2017-11-08 16:41:52</td>\n",
       "      <td>1</td>\n",
       "      <td>2076</td>\n",
       "      <td>0.0</td>\n",
       "      <td>32</td>\n",
       "    </tr>\n",
       "    <tr>\n",
       "      <th>2</th>\n",
       "      <td>9</td>\n",
       "      <td>232</td>\n",
       "      <td>NaN</td>\n",
       "      <td>2017-11-08 16:41:52</td>\n",
       "      <td>1</td>\n",
       "      <td>296481</td>\n",
       "      <td>0.0</td>\n",
       "      <td>19</td>\n",
       "    </tr>\n",
       "    <tr>\n",
       "      <th>3</th>\n",
       "      <td>15</td>\n",
       "      <td>245</td>\n",
       "      <td>NaN</td>\n",
       "      <td>2017-11-08 16:41:52</td>\n",
       "      <td>1</td>\n",
       "      <td>33473</td>\n",
       "      <td>0.0</td>\n",
       "      <td>13</td>\n",
       "    </tr>\n",
       "    <tr>\n",
       "      <th>4</th>\n",
       "      <td>3</td>\n",
       "      <td>137</td>\n",
       "      <td>NaN</td>\n",
       "      <td>2017-11-08 16:41:52</td>\n",
       "      <td>1</td>\n",
       "      <td>115014</td>\n",
       "      <td>0.0</td>\n",
       "      <td>13</td>\n",
       "    </tr>\n",
       "  </tbody>\n",
       "</table>\n",
       "</div>"
      ],
      "text/plain": [
       "   app  channel  click_id          click_time  device      ip  is_attributed  \\\n",
       "0    9      334       NaN 2017-11-08 16:41:52       1  210014            0.0   \n",
       "1    3      211       NaN 2017-11-08 16:41:52       1    2076            0.0   \n",
       "2    9      232       NaN 2017-11-08 16:41:52       1  296481            0.0   \n",
       "3   15      245       NaN 2017-11-08 16:41:52       1   33473            0.0   \n",
       "4    3      137       NaN 2017-11-08 16:41:52       1  115014            0.0   \n",
       "\n",
       "   os  \n",
       "0  13  \n",
       "1  32  \n",
       "2  19  \n",
       "3  13  \n",
       "4  13  "
      ]
     },
     "execution_count": 8,
     "metadata": {},
     "output_type": "execute_result"
    }
   ],
   "source": [
    "train.head()"
   ]
  },
  {
   "cell_type": "code",
   "execution_count": 9,
   "metadata": {
    "collapsed": true,
    "deletable": true,
    "editable": true
   },
   "outputs": [],
   "source": [
    "train['hour'] = train.click_time.dt.hour.astype('int8')\n",
    "train['day'] = train.click_time.dt.day.astype('int8')"
   ]
  },
  {
   "cell_type": "code",
   "execution_count": 10,
   "metadata": {
    "collapsed": false,
    "deletable": true,
    "editable": true
   },
   "outputs": [
    {
     "data": {
      "text/html": [
       "<div>\n",
       "<style>\n",
       "    .dataframe thead tr:only-child th {\n",
       "        text-align: right;\n",
       "    }\n",
       "\n",
       "    .dataframe thead th {\n",
       "        text-align: left;\n",
       "    }\n",
       "\n",
       "    .dataframe tbody tr th {\n",
       "        vertical-align: top;\n",
       "    }\n",
       "</style>\n",
       "<table border=\"1\" class=\"dataframe\">\n",
       "  <thead>\n",
       "    <tr style=\"text-align: right;\">\n",
       "      <th></th>\n",
       "      <th>app</th>\n",
       "      <th>channel</th>\n",
       "      <th>click_id</th>\n",
       "      <th>click_time</th>\n",
       "      <th>device</th>\n",
       "      <th>ip</th>\n",
       "      <th>is_attributed</th>\n",
       "      <th>os</th>\n",
       "      <th>hour</th>\n",
       "      <th>day</th>\n",
       "    </tr>\n",
       "  </thead>\n",
       "  <tbody>\n",
       "    <tr>\n",
       "      <th>0</th>\n",
       "      <td>9</td>\n",
       "      <td>334</td>\n",
       "      <td>NaN</td>\n",
       "      <td>2017-11-08 16:41:52</td>\n",
       "      <td>1</td>\n",
       "      <td>210014</td>\n",
       "      <td>0.0</td>\n",
       "      <td>13</td>\n",
       "      <td>16</td>\n",
       "      <td>8</td>\n",
       "    </tr>\n",
       "    <tr>\n",
       "      <th>1</th>\n",
       "      <td>3</td>\n",
       "      <td>211</td>\n",
       "      <td>NaN</td>\n",
       "      <td>2017-11-08 16:41:52</td>\n",
       "      <td>1</td>\n",
       "      <td>2076</td>\n",
       "      <td>0.0</td>\n",
       "      <td>32</td>\n",
       "      <td>16</td>\n",
       "      <td>8</td>\n",
       "    </tr>\n",
       "    <tr>\n",
       "      <th>2</th>\n",
       "      <td>9</td>\n",
       "      <td>232</td>\n",
       "      <td>NaN</td>\n",
       "      <td>2017-11-08 16:41:52</td>\n",
       "      <td>1</td>\n",
       "      <td>296481</td>\n",
       "      <td>0.0</td>\n",
       "      <td>19</td>\n",
       "      <td>16</td>\n",
       "      <td>8</td>\n",
       "    </tr>\n",
       "  </tbody>\n",
       "</table>\n",
       "</div>"
      ],
      "text/plain": [
       "   app  channel  click_id          click_time  device      ip  is_attributed  \\\n",
       "0    9      334       NaN 2017-11-08 16:41:52       1  210014            0.0   \n",
       "1    3      211       NaN 2017-11-08 16:41:52       1    2076            0.0   \n",
       "2    9      232       NaN 2017-11-08 16:41:52       1  296481            0.0   \n",
       "\n",
       "   os  hour  day  \n",
       "0  13    16    8  \n",
       "1  32    16    8  \n",
       "2  19    16    8  "
      ]
     },
     "execution_count": 10,
     "metadata": {},
     "output_type": "execute_result"
    }
   ],
   "source": [
    "train.head(3)"
   ]
  },
  {
   "cell_type": "code",
   "execution_count": 11,
   "metadata": {
    "collapsed": true,
    "deletable": true,
    "editable": true
   },
   "outputs": [],
   "source": [
    "def do_next_Click(df, agg_suffix='nextClick', agg_type='float32'):\n",
    "  \n",
    "    GROUP_BY_NEXT_CLICKS = [\n",
    "    \n",
    "    # V3\n",
    "    {'groupby': ['ip', 'app', 'device', 'os', 'channel']},\n",
    "    {'groupby': ['ip', 'os', 'device']},\n",
    "    {'groupby': ['ip', 'os', 'device', 'app']},\n",
    "    {'groupby': ['device']},\n",
    "    {'groupby': ['device', 'channel']},     \n",
    "    {'groupby': ['app', 'device', 'channel']},\n",
    "    {'groupby': ['device', 'hour']}\n",
    "    ]\n",
    "\n",
    "    # Calculate the time to next click for each group\n",
    "    for spec in GROUP_BY_NEXT_CLICKS:\n",
    "    \n",
    "       # Name of new feature\n",
    "        new_feature = '{}_{}'.format('_'.join(spec['groupby']),agg_suffix)    \n",
    "    \n",
    "        # Unique list of features to select\n",
    "        all_features = spec['groupby'] + ['click_time']\n",
    "\n",
    "        # Run calculation\n",
    "        print(\"Grouping by {}, and saving in {}\".format(spec['groupby'], new_feature))\n",
    "        df[new_feature] = (df[all_features].groupby(spec[\n",
    "            'groupby']).click_time.shift(-1) - df.click_time).dt.seconds.astype(agg_type)\n",
    "        gc.collect()\n",
    "    return (df)"
   ]
  },
  {
   "cell_type": "code",
   "execution_count": 12,
   "metadata": {
    "collapsed": false,
    "deletable": true,
    "editable": true
   },
   "outputs": [
    {
     "name": "stdout",
     "output_type": "stream",
     "text": [
      "Grouping by ['ip', 'app', 'device', 'os', 'channel'], and saving in ip_app_device_os_channel_nextClick\n",
      "Grouping by ['ip', 'os', 'device'], and saving in ip_os_device_nextClick\n",
      "Grouping by ['ip', 'os', 'device', 'app'], and saving in ip_os_device_app_nextClick\n",
      "Grouping by ['device'], and saving in device_nextClick\n",
      "Grouping by ['device', 'channel'], and saving in device_channel_nextClick\n",
      "Grouping by ['app', 'device', 'channel'], and saving in app_device_channel_nextClick\n",
      "Grouping by ['device', 'hour'], and saving in device_hour_nextClick\n"
     ]
    },
    {
     "data": {
      "text/plain": [
       "0"
      ]
     },
     "execution_count": 12,
     "metadata": {},
     "output_type": "execute_result"
    }
   ],
   "source": [
    "train = do_next_Click(train, agg_suffix='nextClick')\n",
    "gc.collect()"
   ]
  },
  {
   "cell_type": "code",
   "execution_count": 13,
   "metadata": {
    "collapsed": true,
    "deletable": true,
    "editable": true
   },
   "outputs": [],
   "source": [
    "def do_prev_Click( df,agg_suffix='prevClick', agg_type='float32'):\n",
    "\n",
    "    GROUP_BY_NEXT_CLICKS = [\n",
    "    \n",
    "    # V1\n",
    "    # {'groupby': ['ip']},\n",
    "    # {'groupby': ['ip', 'app']},\n",
    "    {'groupby': ['ip', 'channel']},\n",
    "    # {'groupby': ['ip', 'os']},\n",
    "    \n",
    "    # V3\n",
    "    #{'groupby': ['ip', 'app', 'device', 'os', 'channel']},\n",
    "    #{'groupby': ['ip', 'os', 'device']},\n",
    "    #{'groupby': ['ip', 'os', 'device', 'app']}\n",
    "    ]\n",
    "\n",
    "    # Calculate the time to next click for each group\n",
    "    for spec in GROUP_BY_NEXT_CLICKS:\n",
    "    \n",
    "       # Name of new feature\n",
    "        new_feature = '{}_{}'.format('_'.join(spec['groupby']),agg_suffix)    \n",
    "    \n",
    "        # Unique list of features to select\n",
    "        all_features = spec['groupby'] + ['click_time']\n",
    "\n",
    "        # Run calculation\n",
    "        print(\"Grouping by {}, and saving in {}\".format(spec['groupby'], new_feature))\n",
    "        df[new_feature] = (df.click_time - df[all_features].groupby(spec[\n",
    "                'groupby']).click_time.shift(+1) ).dt.seconds.astype(agg_type)\n",
    "        \n",
    "        gc.collect()\n",
    "    return (df)    \n",
    "\n",
    "##  Below a function is written to extract unique count feature from different cols\n",
    "def do_countuniq(df, group_cols, counted, agg_type='uint8', show_max=False, show_agg=True ):\n",
    "    agg_name= '{}_by_{}_countuniq'.format(('_'.join(group_cols)),(counted))  \n",
    "    if show_agg:\n",
    "        print( \"\\nCounting unqiue \", counted, \" by \", group_cols ,  '... and saved in', agg_name )\n",
    "    gp = df[group_cols+[counted]].groupby(group_cols)[counted].nunique().reset_index().rename(columns={counted:agg_name})\n",
    "    df = df.merge(gp, on=group_cols, how='left')\n",
    "    del gp\n",
    "    if show_max:\n",
    "        print( agg_name + \" max value = \", df[agg_name].max() )\n",
    "    df[agg_name] = df[agg_name].astype(agg_type)\n",
    "#     print('predictors',predictors)\n",
    "    gc.collect()\n",
    "    return( df )\n",
    "\n",
    "### Below a function is written to extract cumulative count feature  from different cols    \n",
    "def do_cumcount( df, group_cols, counted,agg_type='uint16', show_max=False, show_agg=True ):\n",
    "    agg_name= '{}_by_{}_cumcount'.format(('_'.join(group_cols)),(counted)) \n",
    "    if show_agg:\n",
    "        print( \"\\nCumulative count by \", group_cols , '... and saved in', agg_name  )\n",
    "    gp = df[group_cols+[counted]].groupby(group_cols)[counted].cumcount()\n",
    "    df[agg_name]=gp.values\n",
    "    del gp\n",
    "    if show_max:\n",
    "        print( agg_name + \" max value = \", df[agg_name].max() )\n",
    "    df[agg_name] = df[agg_name].astype(agg_type)\n",
    "#     print('predictors',predictors)\n",
    "    gc.collect()\n",
    "    return( df )\n",
    "\n",
    "## Below a function is written to extract count feature by aggregating different cols\n",
    "def do_count( df, group_cols, agg_type='uint16', show_max=False, show_agg=True ):\n",
    "    agg_name='{}count'.format('_'.join(group_cols))  \n",
    "    if show_agg:\n",
    "        print( \"\\nAggregating by \", group_cols ,  '... and saved in', agg_name )\n",
    "    gp = df[group_cols][group_cols].groupby(group_cols).size().rename(agg_name).to_frame().reset_index()\n",
    "    df = df.merge(gp, on=group_cols, how='left')\n",
    "    del gp\n",
    "    if show_max:\n",
    "        print( agg_name + \" max value = \", df[agg_name].max() )\n",
    "    df[agg_name] = df[agg_name].astype(agg_type)\n",
    "    gc.collect()\n",
    "    return( df )"
   ]
  },
  {
   "cell_type": "code",
   "execution_count": 14,
   "metadata": {
    "collapsed": false,
    "deletable": true,
    "editable": true
   },
   "outputs": [
    {
     "name": "stdout",
     "output_type": "stream",
     "text": [
      "Grouping by ['ip', 'channel'], and saving in ip_channel_prevClick\n",
      "\n",
      "Counting unqiue  channel  by  ['ip'] ... and saved in ip_by_channel_countuniq\n",
      "\n",
      "Counting unqiue  app  by  ['ip', 'device', 'os'] ... and saved in ip_device_os_by_app_countuniq\n",
      "\n",
      "Counting unqiue  hour  by  ['ip', 'day'] ... and saved in ip_day_by_hour_countuniq\n",
      "\n",
      "Counting unqiue  app  by  ['ip'] ... and saved in ip_by_app_countuniq\n",
      "\n",
      "Counting unqiue  os  by  ['ip', 'app'] ... and saved in ip_app_by_os_countuniq\n",
      "\n",
      "Counting unqiue  device  by  ['ip'] ... and saved in ip_by_device_countuniq\n",
      "\n",
      "Counting unqiue  channel  by  ['app'] ... and saved in app_by_channel_countuniq\n",
      "\n",
      "Cumulative count by  ['ip'] ... and saved in ip_by_os_cumcount\n",
      "\n",
      "Cumulative count by  ['ip', 'device', 'os'] ... and saved in ip_device_os_by_app_cumcount\n"
     ]
    },
    {
     "data": {
      "text/plain": [
       "0"
      ]
     },
     "execution_count": 14,
     "metadata": {},
     "output_type": "execute_result"
    }
   ],
   "source": [
    "train = do_prev_Click( train,agg_suffix='prevClick', agg_type='float32'  ); gc.collect()\n",
    "\n",
    "train = do_countuniq( train, ['ip'], 'channel' ); gc.collect()\n",
    "train = do_countuniq( train, ['ip', 'device', 'os'], 'app'); gc.collect()\n",
    "train = do_countuniq( train, ['ip', 'day'], 'hour' ); gc.collect()\n",
    "train = do_countuniq( train, ['ip'], 'app'); gc.collect()\n",
    "train = do_countuniq( train, ['ip', 'app'], 'os'); gc.collect()\n",
    "train = do_countuniq( train, ['ip'], 'device'); gc.collect()\n",
    "train = do_countuniq( train, ['app'], 'channel'); gc.collect()\n",
    "train = do_cumcount( train, ['ip'], 'os'); gc.collect()\n",
    "train = do_cumcount( train, ['ip', 'device', 'os'], 'app'); gc.collect()\n"
   ]
  },
  {
   "cell_type": "code",
   "execution_count": 15,
   "metadata": {
    "collapsed": false,
    "deletable": true,
    "editable": true
   },
   "outputs": [
    {
     "name": "stdout",
     "output_type": "stream",
     "text": [
      "\n",
      "Aggregating by  ['ip', 'day', 'hour'] ... and saved in ip_day_hourcount\n",
      "\n",
      "Aggregating by  ['ip', 'app'] ... and saved in ip_appcount\n",
      "\n",
      "Aggregating by  ['ip', 'app', 'os'] ... and saved in ip_app_oscount\n"
     ]
    },
    {
     "data": {
      "text/plain": [
       "64"
      ]
     },
     "execution_count": 15,
     "metadata": {},
     "output_type": "execute_result"
    }
   ],
   "source": [
    "train = do_count( train, ['ip', 'day', 'hour'] ); gc.collect()\n",
    "train = do_count( train, ['ip', 'app']); gc.collect()\n",
    "train = do_count( train, ['ip', 'app', 'os']); gc.collect()"
   ]
  },
  {
   "cell_type": "code",
   "execution_count": 16,
   "metadata": {
    "collapsed": true,
    "deletable": true,
    "editable": true
   },
   "outputs": [],
   "source": [
    "del train['day']\n",
    "gc.collect()\n",
    "train['dow'] = train['click_time'].dt.dayofweek.astype('int8')\n",
    "train[\"doy\"] = train[\"click_time\"].dt.dayofyear.astype('int8')"
   ]
  },
  {
   "cell_type": "code",
   "execution_count": 17,
   "metadata": {
    "collapsed": false,
    "deletable": true,
    "editable": true
   },
   "outputs": [
    {
     "data": {
      "text/html": [
       "<div>\n",
       "<style>\n",
       "    .dataframe thead tr:only-child th {\n",
       "        text-align: right;\n",
       "    }\n",
       "\n",
       "    .dataframe thead th {\n",
       "        text-align: left;\n",
       "    }\n",
       "\n",
       "    .dataframe tbody tr th {\n",
       "        vertical-align: top;\n",
       "    }\n",
       "</style>\n",
       "<table border=\"1\" class=\"dataframe\">\n",
       "  <thead>\n",
       "    <tr style=\"text-align: right;\">\n",
       "      <th></th>\n",
       "      <th>app</th>\n",
       "      <th>channel</th>\n",
       "      <th>click_id</th>\n",
       "      <th>click_time</th>\n",
       "      <th>device</th>\n",
       "      <th>ip</th>\n",
       "      <th>is_attributed</th>\n",
       "      <th>os</th>\n",
       "      <th>hour</th>\n",
       "      <th>ip_app_device_os_channel_nextClick</th>\n",
       "      <th>...</th>\n",
       "      <th>ip_app_by_os_countuniq</th>\n",
       "      <th>ip_by_device_countuniq</th>\n",
       "      <th>app_by_channel_countuniq</th>\n",
       "      <th>ip_by_os_cumcount</th>\n",
       "      <th>ip_device_os_by_app_cumcount</th>\n",
       "      <th>ip_day_hourcount</th>\n",
       "      <th>ip_appcount</th>\n",
       "      <th>ip_app_oscount</th>\n",
       "      <th>dow</th>\n",
       "      <th>doy</th>\n",
       "    </tr>\n",
       "  </thead>\n",
       "  <tbody>\n",
       "    <tr>\n",
       "      <th>0</th>\n",
       "      <td>9</td>\n",
       "      <td>334</td>\n",
       "      <td>NaN</td>\n",
       "      <td>2017-11-08 16:41:52</td>\n",
       "      <td>1</td>\n",
       "      <td>210014</td>\n",
       "      <td>0.0</td>\n",
       "      <td>13</td>\n",
       "      <td>16</td>\n",
       "      <td>NaN</td>\n",
       "      <td>...</td>\n",
       "      <td>22</td>\n",
       "      <td>10</td>\n",
       "      <td>43</td>\n",
       "      <td>0</td>\n",
       "      <td>0</td>\n",
       "      <td>5</td>\n",
       "      <td>65</td>\n",
       "      <td>12</td>\n",
       "      <td>2</td>\n",
       "      <td>56</td>\n",
       "    </tr>\n",
       "    <tr>\n",
       "      <th>1</th>\n",
       "      <td>3</td>\n",
       "      <td>211</td>\n",
       "      <td>NaN</td>\n",
       "      <td>2017-11-08 16:41:52</td>\n",
       "      <td>1</td>\n",
       "      <td>2076</td>\n",
       "      <td>0.0</td>\n",
       "      <td>32</td>\n",
       "      <td>16</td>\n",
       "      <td>2691.0</td>\n",
       "      <td>...</td>\n",
       "      <td>57</td>\n",
       "      <td>34</td>\n",
       "      <td>44</td>\n",
       "      <td>0</td>\n",
       "      <td>0</td>\n",
       "      <td>262</td>\n",
       "      <td>3162</td>\n",
       "      <td>48</td>\n",
       "      <td>2</td>\n",
       "      <td>56</td>\n",
       "    </tr>\n",
       "    <tr>\n",
       "      <th>2</th>\n",
       "      <td>9</td>\n",
       "      <td>232</td>\n",
       "      <td>NaN</td>\n",
       "      <td>2017-11-08 16:41:52</td>\n",
       "      <td>1</td>\n",
       "      <td>296481</td>\n",
       "      <td>0.0</td>\n",
       "      <td>19</td>\n",
       "      <td>16</td>\n",
       "      <td>NaN</td>\n",
       "      <td>...</td>\n",
       "      <td>13</td>\n",
       "      <td>3</td>\n",
       "      <td>43</td>\n",
       "      <td>0</td>\n",
       "      <td>0</td>\n",
       "      <td>4</td>\n",
       "      <td>41</td>\n",
       "      <td>7</td>\n",
       "      <td>2</td>\n",
       "      <td>56</td>\n",
       "    </tr>\n",
       "    <tr>\n",
       "      <th>3</th>\n",
       "      <td>15</td>\n",
       "      <td>245</td>\n",
       "      <td>NaN</td>\n",
       "      <td>2017-11-08 16:41:52</td>\n",
       "      <td>1</td>\n",
       "      <td>33473</td>\n",
       "      <td>0.0</td>\n",
       "      <td>13</td>\n",
       "      <td>16</td>\n",
       "      <td>46609.0</td>\n",
       "      <td>...</td>\n",
       "      <td>29</td>\n",
       "      <td>12</td>\n",
       "      <td>27</td>\n",
       "      <td>0</td>\n",
       "      <td>0</td>\n",
       "      <td>3</td>\n",
       "      <td>248</td>\n",
       "      <td>70</td>\n",
       "      <td>2</td>\n",
       "      <td>56</td>\n",
       "    </tr>\n",
       "    <tr>\n",
       "      <th>4</th>\n",
       "      <td>3</td>\n",
       "      <td>137</td>\n",
       "      <td>NaN</td>\n",
       "      <td>2017-11-08 16:41:52</td>\n",
       "      <td>1</td>\n",
       "      <td>115014</td>\n",
       "      <td>0.0</td>\n",
       "      <td>13</td>\n",
       "      <td>16</td>\n",
       "      <td>26104.0</td>\n",
       "      <td>...</td>\n",
       "      <td>24</td>\n",
       "      <td>2</td>\n",
       "      <td>44</td>\n",
       "      <td>0</td>\n",
       "      <td>0</td>\n",
       "      <td>16</td>\n",
       "      <td>412</td>\n",
       "      <td>69</td>\n",
       "      <td>2</td>\n",
       "      <td>56</td>\n",
       "    </tr>\n",
       "  </tbody>\n",
       "</table>\n",
       "<p>5 rows × 31 columns</p>\n",
       "</div>"
      ],
      "text/plain": [
       "   app  channel  click_id          click_time  device      ip  is_attributed  \\\n",
       "0    9      334       NaN 2017-11-08 16:41:52       1  210014            0.0   \n",
       "1    3      211       NaN 2017-11-08 16:41:52       1    2076            0.0   \n",
       "2    9      232       NaN 2017-11-08 16:41:52       1  296481            0.0   \n",
       "3   15      245       NaN 2017-11-08 16:41:52       1   33473            0.0   \n",
       "4    3      137       NaN 2017-11-08 16:41:52       1  115014            0.0   \n",
       "\n",
       "   os  hour  ip_app_device_os_channel_nextClick ...   ip_app_by_os_countuniq  \\\n",
       "0  13    16                                 NaN ...                       22   \n",
       "1  32    16                              2691.0 ...                       57   \n",
       "2  19    16                                 NaN ...                       13   \n",
       "3  13    16                             46609.0 ...                       29   \n",
       "4  13    16                             26104.0 ...                       24   \n",
       "\n",
       "   ip_by_device_countuniq  app_by_channel_countuniq  ip_by_os_cumcount  \\\n",
       "0                      10                        43                  0   \n",
       "1                      34                        44                  0   \n",
       "2                       3                        43                  0   \n",
       "3                      12                        27                  0   \n",
       "4                       2                        44                  0   \n",
       "\n",
       "   ip_device_os_by_app_cumcount  ip_day_hourcount  ip_appcount  \\\n",
       "0                             0                 5           65   \n",
       "1                             0               262         3162   \n",
       "2                             0                 4           41   \n",
       "3                             0                 3          248   \n",
       "4                             0                16          412   \n",
       "\n",
       "   ip_app_oscount  dow  doy  \n",
       "0              12    2   56  \n",
       "1              48    2   56  \n",
       "2               7    2   56  \n",
       "3              70    2   56  \n",
       "4              69    2   56  \n",
       "\n",
       "[5 rows x 31 columns]"
      ]
     },
     "execution_count": 17,
     "metadata": {},
     "output_type": "execute_result"
    }
   ],
   "source": [
    "train.head()"
   ]
  },
  {
   "cell_type": "code",
   "execution_count": 18,
   "metadata": {
    "collapsed": false,
    "deletable": true,
    "editable": true
   },
   "outputs": [
    {
     "name": "stdout",
     "output_type": "stream",
     "text": [
      "<class 'pandas.core.frame.DataFrame'>\n",
      "Int64Index: 78790469 entries, 0 to 78790468\n",
      "Data columns (total 31 columns):\n",
      "app                                   uint16\n",
      "channel                               uint16\n",
      "click_id                              float64\n",
      "click_time                            datetime64[ns]\n",
      "device                                uint16\n",
      "ip                                    uint32\n",
      "is_attributed                         float64\n",
      "os                                    uint16\n",
      "hour                                  int8\n",
      "ip_app_device_os_channel_nextClick    float32\n",
      "ip_os_device_nextClick                float32\n",
      "ip_os_device_app_nextClick            float32\n",
      "device_nextClick                      float32\n",
      "device_channel_nextClick              float32\n",
      "app_device_channel_nextClick          float32\n",
      "device_hour_nextClick                 float32\n",
      "ip_channel_prevClick                  float32\n",
      "ip_by_channel_countuniq               uint8\n",
      "ip_device_os_by_app_countuniq         uint8\n",
      "ip_day_by_hour_countuniq              uint8\n",
      "ip_by_app_countuniq                   uint8\n",
      "ip_app_by_os_countuniq                uint8\n",
      "ip_by_device_countuniq                uint8\n",
      "app_by_channel_countuniq              uint8\n",
      "ip_by_os_cumcount                     uint16\n",
      "ip_device_os_by_app_cumcount          uint16\n",
      "ip_day_hourcount                      uint16\n",
      "ip_appcount                           uint16\n",
      "ip_app_oscount                        uint16\n",
      "dow                                   int8\n",
      "doy                                   int8\n",
      "dtypes: datetime64[ns](1), float32(8), float64(2), int8(3), uint16(9), uint32(1), uint8(7)\n",
      "memory usage: 7.0 GB\n"
     ]
    }
   ],
   "source": [
    "train.info()"
   ]
  },
  {
   "cell_type": "code",
   "execution_count": 19,
   "metadata": {
    "collapsed": false,
    "deletable": true,
    "editable": true
   },
   "outputs": [
    {
     "data": {
      "text/plain": [
       "(78790469, 31)"
      ]
     },
     "execution_count": 19,
     "metadata": {},
     "output_type": "execute_result"
    }
   ],
   "source": [
    "train.shape"
   ]
  },
  {
   "cell_type": "code",
   "execution_count": 20,
   "metadata": {
    "collapsed": true,
    "deletable": true,
    "editable": true
   },
   "outputs": [],
   "source": [
    "from sklearn.preprocessing import LabelEncoder\n",
    "train[['app', 'device', 'os', 'channel', 'hour', 'dow', 'doy']] = train[['app', 'device', 'os', 'channel', 'hour', 'dow', 'doy']].apply(LabelEncoder().fit_transform)"
   ]
  },
  {
   "cell_type": "code",
   "execution_count": 21,
   "metadata": {
    "collapsed": false,
    "deletable": true,
    "editable": true
   },
   "outputs": [
    {
     "data": {
      "text/plain": [
       "133"
      ]
     },
     "execution_count": 21,
     "metadata": {},
     "output_type": "execute_result"
    }
   ],
   "source": [
    "test = train[len_train:]\n",
    "train = train[:len_train]\n",
    "gc.collect()"
   ]
  },
  {
   "cell_type": "code",
   "execution_count": 22,
   "metadata": {
    "collapsed": false,
    "deletable": true,
    "editable": true
   },
   "outputs": [
    {
     "data": {
      "text/plain": [
       "(18790469, 31)"
      ]
     },
     "execution_count": 22,
     "metadata": {},
     "output_type": "execute_result"
    }
   ],
   "source": [
    "test.shape"
   ]
  },
  {
   "cell_type": "code",
   "execution_count": 23,
   "metadata": {
    "collapsed": false,
    "deletable": true,
    "editable": true
   },
   "outputs": [
    {
     "data": {
      "text/plain": [
       "(60000000, 31)"
      ]
     },
     "execution_count": 23,
     "metadata": {},
     "output_type": "execute_result"
    }
   ],
   "source": [
    "train.shape"
   ]
  },
  {
   "cell_type": "code",
   "execution_count": 24,
   "metadata": {
    "collapsed": false,
    "deletable": true,
    "editable": true
   },
   "outputs": [
    {
     "data": {
      "text/plain": [
       "0"
      ]
     },
     "execution_count": 24,
     "metadata": {},
     "output_type": "execute_result"
    }
   ],
   "source": [
    "y = train['is_attributed']\n",
    "train.drop(['is_attributed'], axis=1, inplace=True)\n",
    "gc.collect()"
   ]
  },
  {
   "cell_type": "code",
   "execution_count": 25,
   "metadata": {
    "collapsed": true,
    "deletable": true,
    "editable": true
   },
   "outputs": [],
   "source": [
    "import pickle\n",
    "\n",
    "with open(\"train.b\",\"wb\") as f1, open(\"test.b\",\"wb\") as f2,\\\n",
    "        open(\"is_attributed.b\", \"wb\") as f3:\n",
    "    pickle.dump(train, f1)\n",
    "    pickle.dump(test, f2)\n",
    "    pickle.dump(y, f3)"
   ]
  },
  {
   "cell_type": "code",
   "execution_count": 26,
   "metadata": {
    "collapsed": true,
    "deletable": true,
    "editable": true
   },
   "outputs": [],
   "source": [
    "import xgboost as xgb\n",
    "from xgboost import plot_importance"
   ]
  },
  {
   "cell_type": "code",
   "execution_count": 27,
   "metadata": {
    "collapsed": false,
    "deletable": true,
    "editable": true
   },
   "outputs": [
    {
     "data": {
      "text/plain": [
       "7"
      ]
     },
     "execution_count": 27,
     "metadata": {},
     "output_type": "execute_result"
    }
   ],
   "source": [
    "# with open(\"is_attributed.b\",\"rb\") as f2:\n",
    "#     y = pickle.load(f2)\n",
    "# with open(\"train.b\",\"rb\") as f2:\n",
    "#     train = pickle.load(f2)\n",
    "train.drop([\"click_time\",\"click_id\",\"ip\"], axis=1, inplace=True)\n",
    "gc.collect()"
   ]
  },
  {
   "cell_type": "code",
   "execution_count": 28,
   "metadata": {
    "collapsed": false,
    "deletable": true,
    "editable": true,
    "scrolled": false
   },
   "outputs": [
    {
     "name": "stdout",
     "output_type": "stream",
     "text": [
      "[0]\ttrain-auc:0.957413\n",
      "[1]\ttrain-auc:0.968539\n",
      "[2]\ttrain-auc:0.972682\n",
      "[3]\ttrain-auc:0.973809\n",
      "[4]\ttrain-auc:0.974494\n",
      "[5]\ttrain-auc:0.976092\n",
      "[6]\ttrain-auc:0.977639\n",
      "[7]\ttrain-auc:0.977637\n",
      "[8]\ttrain-auc:0.97774\n",
      "[9]\ttrain-auc:0.978947\n",
      "[10]\ttrain-auc:0.979665\n",
      "[11]\ttrain-auc:0.979561\n",
      "[12]\ttrain-auc:0.980019\n",
      "[13]\ttrain-auc:0.981516\n",
      "[14]\ttrain-auc:0.98213\n",
      "[15]\ttrain-auc:0.982598\n",
      "[16]\ttrain-auc:0.984028\n",
      "[17]\ttrain-auc:0.985234\n",
      "[18]\ttrain-auc:0.98578\n",
      "[19]\ttrain-auc:0.986314\n",
      "[20]\ttrain-auc:0.986897\n",
      "[21]\ttrain-auc:0.988172\n",
      "[22]\ttrain-auc:0.989064\n",
      "[23]\ttrain-auc:0.989904\n",
      "[24]\ttrain-auc:0.99052\n",
      "[25]\ttrain-auc:0.991262\n",
      "[26]\ttrain-auc:0.991785\n",
      "[27]\ttrain-auc:0.992557\n",
      "[28]\ttrain-auc:0.99322\n",
      "[29]\ttrain-auc:0.993893\n"
     ]
    }
   ],
   "source": [
    "# Run xgb\n",
    "params = {'eta': 0.3,\n",
    "          'tree_method': \"hist\",\n",
    "          'grow_policy': \"lossguide\",\n",
    "          'max_leaves': 1400,  \n",
    "          'max_depth': 0, \n",
    "          'subsample': 0.9, \n",
    "          'colsample_bytree': 0.7, \n",
    "          'colsample_bylevel':0.7,\n",
    "          'min_child_weight':0,\n",
    "          'alpha':4,\n",
    "          'objective': 'binary:logistic', \n",
    "          'scale_pos_weight':9,\n",
    "          'eval_metric': 'auc', \n",
    "          'nthread':8,\n",
    "          'random_state': 99, \n",
    "          'silent': True}\n",
    "\n",
    "dtrain = xgb.DMatrix(train, y)\n",
    "del train, y\n",
    "gc.collect()\n",
    "watchlist = [(dtrain, 'train')]\n",
    "model = xgb.train(params, dtrain, 30, watchlist, maximize=True, verbose_eval=1)"
   ]
  },
  {
   "cell_type": "code",
   "execution_count": 29,
   "metadata": {
    "collapsed": false,
    "deletable": true,
    "editable": true
   },
   "outputs": [
    {
     "data": {
      "text/plain": [
       "<matplotlib.figure.Figure at 0x7fd8aad74750>"
      ]
     },
     "metadata": {},
     "output_type": "display_data"
    },
    {
     "data": {
      "image/png": "[encoded data removed]",
      "text/plain": [
       "<matplotlib.figure.Figure at 0x7fd9154a9810>"
      ]
     },
     "metadata": {},
     "output_type": "display_data"
    }
   ],
   "source": [
    "plt.figure(figsize=(15,10))\n",
    "plot_importance(model)\n",
    "plt.show()"
   ]
  },
  {
   "cell_type": "code",
   "execution_count": 30,
   "metadata": {
    "collapsed": true,
    "deletable": true,
    "editable": true
   },
   "outputs": [],
   "source": [
    "# with open(\"test.b\",\"rb\") as f2:\n",
    "#     test = pickle.load(f2)\n",
    "\n",
    "sub = pd.DataFrame()\n",
    "sub['click_id'] = test['click_id'].astype('int')\n",
    "\n",
    "test.drop(['click_id','click_time','is_attributed','ip'], axis=1, inplace=True)\n",
    "dtest = xgb.DMatrix(test)\n",
    "del test\n",
    "gc.collect()\n",
    "\n",
    "# Save the predictions\n",
    "sub['is_attributed'] = model.predict(dtest, ntree_limit=model.best_ntree_limit)\n",
    "sub.to_csv('xgb_sub_3.csv', float_format='%.8f', index=False)"
   ]
  },
  {
   "cell_type": "code",
   "execution_count": 28,
   "metadata": {
    "collapsed": true,
    "deletable": true,
    "editable": true
   },
   "outputs": [],
   "source": [
    "import lightgbm as lgb"
   ]
  },
  {
   "cell_type": "code",
   "execution_count": 27,
   "metadata": {
    "collapsed": true,
    "deletable": true,
    "editable": true
   },
   "outputs": [],
   "source": [
    "# lightgbm\n",
    "def lgb_modelfit_nocv(params, dtrain, dvalid, predictors, target='target', objective='binary', metrics='auc',\n",
    "                 feval=None, early_stopping_rounds=50, num_boost_round=3000, verbose_eval=10, categorical_features=None):\n",
    "    lgb_params = {\n",
    "        'boosting_type': 'gbdt',\n",
    "        'objective': objective,\n",
    "        'metric':metrics,\n",
    "        'learning_rate': 0.05,\n",
    "        #'is_unbalance': 'true',  #because training data is unbalance (replaced with scale_pos_weight)\n",
    "        'num_leaves': 31,  # we should let it be smaller than 2^(max_depth)\n",
    "        'max_depth': -1,  # -1 means no limit\n",
    "        'min_child_samples': 20,  # Minimum number of data need in a child(min_data_in_leaf)\n",
    "        'max_bin': 255,  # Number of bucketed bin for feature values\n",
    "        'subsample': 0.6,  # Subsample ratio of the training instance.\n",
    "        'subsample_freq': 0,  # frequence of subsample, <=0 means no enable\n",
    "        'colsample_bytree': 0.3,  # Subsample ratio of columns when constructing each tree.\n",
    "        'min_child_weight': 5,  # Minimum sum of instance weight(hessian) needed in a child(leaf)\n",
    "        'subsample_for_bin': 200000,  # Number of samples for constructing bin\n",
    "        'min_split_gain': 0,  # lambda_l1, lambda_l2 and min_gain_to_split to regularization\n",
    "        'reg_alpha': 0,  # L1 regularization term on weights\n",
    "        'reg_lambda': 0,  # L2 regularization term on weights\n",
    "        'nthread': 8,\n",
    "        'verbose': 0,\n",
    "    }\n",
    "\n",
    "    lgb_params.update(params)\n",
    "\n",
    "    print(\"preparing validation datasets\")\n",
    "\n",
    "    xgtrain = lgb.Dataset(dtrain[predictors].values, label=dtrain[target].values,\n",
    "                          feature_name=predictors,\n",
    "                          categorical_feature=categorical_features\n",
    "                          )\n",
    "    xgvalid = lgb.Dataset(dvalid[predictors].values, label=dvalid[target].values,\n",
    "                          feature_name=predictors,\n",
    "                          categorical_feature=categorical_features\n",
    "                          )\n",
    "    del dtrain\n",
    "    del dvalid\n",
    "    gc.collect()\n",
    "\n",
    "    evals_results = {}\n",
    "\n",
    "    bst1 = lgb.train(lgb_params, \n",
    "                     xgtrain, \n",
    "                     valid_sets=[ xgvalid], \n",
    "                     valid_names=['valid'], \n",
    "                     evals_result=evals_results, \n",
    "                     num_boost_round=num_boost_round,\n",
    "                     early_stopping_rounds=early_stopping_rounds,\n",
    "                     verbose_eval=10, \n",
    "                     feval=feval)\n",
    "\n",
    "    print(\"\\nModel Report\")\n",
    "    print(\"bst1.best_iteration: \", bst1.best_iteration)\n",
    "    print(metrics+\":\", evals_results['valid'][metrics][bst1.best_iteration-1])\n",
    "\n",
    "    return (bst1,bst1.best_iteration)"
   ]
  },
  {
   "cell_type": "code",
   "execution_count": 49,
   "metadata": {
    "collapsed": false,
    "deletable": true,
    "editable": true
   },
   "outputs": [
    {
     "name": "stdout",
     "output_type": "stream",
     "text": [
      "\n",
      "train size:  57500000\n",
      "\n",
      "valid size:  2500000\n"
     ]
    }
   ],
   "source": [
    "valid_len = 2500000\n",
    "train['is_attributed'] = y\n",
    "train_df = train[:-valid_len]\n",
    "val_df = train[-valid_len:]\n",
    "print(\"\\ntrain size: \", len(train_df))\n",
    "print(\"\\nvalid size: \", len(val_df))"
   ]
  },
  {
   "cell_type": "code",
   "execution_count": 33,
   "metadata": {
    "collapsed": true,
    "deletable": true,
    "editable": true
   },
   "outputs": [],
   "source": [
    "predictors = train.columns"
   ]
  },
  {
   "cell_type": "code",
   "execution_count": 35,
   "metadata": {
    "collapsed": true,
    "deletable": true,
    "editable": true
   },
   "outputs": [],
   "source": [
    "predictors = list(predictors)"
   ]
  },
  {
   "cell_type": "code",
   "execution_count": 54,
   "metadata": {
    "collapsed": false,
    "deletable": true,
    "editable": true
   },
   "outputs": [
    {
     "data": {
      "text/plain": [
       "['app',\n",
       " 'channel',\n",
       " 'device',\n",
       " 'os',\n",
       " 'hour',\n",
       " 'ip_app_device_os_channel_nextClick',\n",
       " 'ip_os_device_nextClick',\n",
       " 'ip_os_device_app_nextClick',\n",
       " 'device_nextClick',\n",
       " 'device_channel_nextClick',\n",
       " 'app_device_channel_nextClick',\n",
       " 'device_hour_nextClick',\n",
       " 'ip_channel_prevClick',\n",
       " 'ip_by_channel_countuniq',\n",
       " 'ip_device_os_by_app_countuniq',\n",
       " 'ip_day_by_hour_countuniq',\n",
       " 'ip_by_app_countuniq',\n",
       " 'ip_app_by_os_countuniq',\n",
       " 'ip_by_device_countuniq',\n",
       " 'app_by_channel_countuniq',\n",
       " 'ip_by_os_cumcount',\n",
       " 'ip_device_os_by_app_cumcount',\n",
       " 'ip_day_hourcount',\n",
       " 'ip_appcount',\n",
       " 'ip_app_oscount',\n",
       " 'dow',\n",
       " 'doy']"
      ]
     },
     "execution_count": 54,
     "metadata": {},
     "output_type": "execute_result"
    }
   ],
   "source": [
    "predictors"
   ]
  },
  {
   "cell_type": "code",
   "execution_count": 44,
   "metadata": {
    "collapsed": false,
    "deletable": true,
    "editable": true
   },
   "outputs": [
    {
     "data": {
      "text/html": [
       "<div>\n",
       "<style>\n",
       "    .dataframe thead tr:only-child th {\n",
       "        text-align: right;\n",
       "    }\n",
       "\n",
       "    .dataframe thead th {\n",
       "        text-align: left;\n",
       "    }\n",
       "\n",
       "    .dataframe tbody tr th {\n",
       "        vertical-align: top;\n",
       "    }\n",
       "</style>\n",
       "<table border=\"1\" class=\"dataframe\">\n",
       "  <thead>\n",
       "    <tr style=\"text-align: right;\">\n",
       "      <th></th>\n",
       "      <th>app</th>\n",
       "      <th>channel</th>\n",
       "      <th>click_id</th>\n",
       "      <th>click_time</th>\n",
       "      <th>device</th>\n",
       "      <th>ip</th>\n",
       "      <th>os</th>\n",
       "      <th>hour</th>\n",
       "      <th>ip_app_device_os_channel_nextClick</th>\n",
       "      <th>ip_os_device_nextClick</th>\n",
       "      <th>...</th>\n",
       "      <th>ip_by_device_countuniq</th>\n",
       "      <th>app_by_channel_countuniq</th>\n",
       "      <th>ip_by_os_cumcount</th>\n",
       "      <th>ip_device_os_by_app_cumcount</th>\n",
       "      <th>ip_day_hourcount</th>\n",
       "      <th>ip_appcount</th>\n",
       "      <th>ip_app_oscount</th>\n",
       "      <th>dow</th>\n",
       "      <th>doy</th>\n",
       "      <th>is_attributed</th>\n",
       "    </tr>\n",
       "  </thead>\n",
       "  <tbody>\n",
       "    <tr>\n",
       "      <th>0</th>\n",
       "      <td>9</td>\n",
       "      <td>112</td>\n",
       "      <td>NaN</td>\n",
       "      <td>2017-11-08 16:41:52</td>\n",
       "      <td>1</td>\n",
       "      <td>210014</td>\n",
       "      <td>13</td>\n",
       "      <td>16</td>\n",
       "      <td>NaN</td>\n",
       "      <td>2936.0</td>\n",
       "      <td>...</td>\n",
       "      <td>10</td>\n",
       "      <td>43</td>\n",
       "      <td>0</td>\n",
       "      <td>0</td>\n",
       "      <td>5</td>\n",
       "      <td>65</td>\n",
       "      <td>12</td>\n",
       "      <td>0</td>\n",
       "      <td>0</td>\n",
       "      <td>0.0</td>\n",
       "    </tr>\n",
       "    <tr>\n",
       "      <th>1</th>\n",
       "      <td>3</td>\n",
       "      <td>61</td>\n",
       "      <td>NaN</td>\n",
       "      <td>2017-11-08 16:41:52</td>\n",
       "      <td>1</td>\n",
       "      <td>2076</td>\n",
       "      <td>32</td>\n",
       "      <td>16</td>\n",
       "      <td>2691.0</td>\n",
       "      <td>2690.0</td>\n",
       "      <td>...</td>\n",
       "      <td>34</td>\n",
       "      <td>44</td>\n",
       "      <td>0</td>\n",
       "      <td>0</td>\n",
       "      <td>262</td>\n",
       "      <td>3162</td>\n",
       "      <td>48</td>\n",
       "      <td>0</td>\n",
       "      <td>0</td>\n",
       "      <td>0.0</td>\n",
       "    </tr>\n",
       "    <tr>\n",
       "      <th>2</th>\n",
       "      <td>9</td>\n",
       "      <td>72</td>\n",
       "      <td>NaN</td>\n",
       "      <td>2017-11-08 16:41:52</td>\n",
       "      <td>1</td>\n",
       "      <td>296481</td>\n",
       "      <td>19</td>\n",
       "      <td>16</td>\n",
       "      <td>NaN</td>\n",
       "      <td>4.0</td>\n",
       "      <td>...</td>\n",
       "      <td>3</td>\n",
       "      <td>43</td>\n",
       "      <td>0</td>\n",
       "      <td>0</td>\n",
       "      <td>4</td>\n",
       "      <td>41</td>\n",
       "      <td>7</td>\n",
       "      <td>0</td>\n",
       "      <td>0</td>\n",
       "      <td>0.0</td>\n",
       "    </tr>\n",
       "    <tr>\n",
       "      <th>3</th>\n",
       "      <td>15</td>\n",
       "      <td>81</td>\n",
       "      <td>NaN</td>\n",
       "      <td>2017-11-08 16:41:52</td>\n",
       "      <td>1</td>\n",
       "      <td>33473</td>\n",
       "      <td>13</td>\n",
       "      <td>16</td>\n",
       "      <td>46609.0</td>\n",
       "      <td>3486.0</td>\n",
       "      <td>...</td>\n",
       "      <td>12</td>\n",
       "      <td>27</td>\n",
       "      <td>0</td>\n",
       "      <td>0</td>\n",
       "      <td>3</td>\n",
       "      <td>248</td>\n",
       "      <td>70</td>\n",
       "      <td>0</td>\n",
       "      <td>0</td>\n",
       "      <td>0.0</td>\n",
       "    </tr>\n",
       "    <tr>\n",
       "      <th>4</th>\n",
       "      <td>3</td>\n",
       "      <td>39</td>\n",
       "      <td>NaN</td>\n",
       "      <td>2017-11-08 16:41:52</td>\n",
       "      <td>1</td>\n",
       "      <td>115014</td>\n",
       "      <td>13</td>\n",
       "      <td>16</td>\n",
       "      <td>26104.0</td>\n",
       "      <td>418.0</td>\n",
       "      <td>...</td>\n",
       "      <td>2</td>\n",
       "      <td>44</td>\n",
       "      <td>0</td>\n",
       "      <td>0</td>\n",
       "      <td>16</td>\n",
       "      <td>412</td>\n",
       "      <td>69</td>\n",
       "      <td>0</td>\n",
       "      <td>0</td>\n",
       "      <td>0.0</td>\n",
       "    </tr>\n",
       "  </tbody>\n",
       "</table>\n",
       "<p>5 rows × 31 columns</p>\n",
       "</div>"
      ],
      "text/plain": [
       "   app  channel  click_id          click_time  device      ip  os  hour  \\\n",
       "0    9      112       NaN 2017-11-08 16:41:52       1  210014  13    16   \n",
       "1    3       61       NaN 2017-11-08 16:41:52       1    2076  32    16   \n",
       "2    9       72       NaN 2017-11-08 16:41:52       1  296481  19    16   \n",
       "3   15       81       NaN 2017-11-08 16:41:52       1   33473  13    16   \n",
       "4    3       39       NaN 2017-11-08 16:41:52       1  115014  13    16   \n",
       "\n",
       "   ip_app_device_os_channel_nextClick  ip_os_device_nextClick      ...        \\\n",
       "0                                 NaN                  2936.0      ...         \n",
       "1                              2691.0                  2690.0      ...         \n",
       "2                                 NaN                     4.0      ...         \n",
       "3                             46609.0                  3486.0      ...         \n",
       "4                             26104.0                   418.0      ...         \n",
       "\n",
       "   ip_by_device_countuniq  app_by_channel_countuniq  ip_by_os_cumcount  \\\n",
       "0                      10                        43                  0   \n",
       "1                      34                        44                  0   \n",
       "2                       3                        43                  0   \n",
       "3                      12                        27                  0   \n",
       "4                       2                        44                  0   \n",
       "\n",
       "   ip_device_os_by_app_cumcount  ip_day_hourcount  ip_appcount  \\\n",
       "0                             0                 5           65   \n",
       "1                             0               262         3162   \n",
       "2                             0                 4           41   \n",
       "3                             0                 3          248   \n",
       "4                             0                16          412   \n",
       "\n",
       "   ip_app_oscount  dow  doy  is_attributed  \n",
       "0              12    0    0            0.0  \n",
       "1              48    0    0            0.0  \n",
       "2               7    0    0            0.0  \n",
       "3              70    0    0            0.0  \n",
       "4              69    0    0            0.0  \n",
       "\n",
       "[5 rows x 31 columns]"
      ]
     },
     "execution_count": 44,
     "metadata": {},
     "output_type": "execute_result"
    }
   ],
   "source": [
    "train.head()"
   ]
  },
  {
   "cell_type": "code",
   "execution_count": 55,
   "metadata": {
    "collapsed": false,
    "deletable": true,
    "editable": true
   },
   "outputs": [
    {
     "name": "stdout",
     "output_type": "stream",
     "text": [
      "preparing validation datasets\n",
      "Training until validation scores don't improve for 30 rounds.\n",
      "[10]\tvalid's auc: 0.954081\n",
      "[20]\tvalid's auc: 0.961689\n",
      "[30]\tvalid's auc: 0.966149\n",
      "[40]\tvalid's auc: 0.969982\n",
      "[50]\tvalid's auc: 0.972899\n",
      "[60]\tvalid's auc: 0.975948\n",
      "[70]\tvalid's auc: 0.977123\n",
      "[80]\tvalid's auc: 0.978308\n",
      "[90]\tvalid's auc: 0.979234\n",
      "[100]\tvalid's auc: 0.979993\n",
      "[110]\tvalid's auc: 0.980495\n",
      "[120]\tvalid's auc: 0.980905\n",
      "[130]\tvalid's auc: 0.981542\n",
      "[140]\tvalid's auc: 0.981963\n",
      "[150]\tvalid's auc: 0.982248\n",
      "[160]\tvalid's auc: 0.982632\n",
      "[170]\tvalid's auc: 0.982952\n",
      "[180]\tvalid's auc: 0.983173\n",
      "[190]\tvalid's auc: 0.98356\n",
      "[200]\tvalid's auc: 0.983747\n",
      "[210]\tvalid's auc: 0.983828\n",
      "[220]\tvalid's auc: 0.984066\n",
      "[230]\tvalid's auc: 0.984197\n",
      "[240]\tvalid's auc: 0.984402\n",
      "[250]\tvalid's auc: 0.984481\n",
      "[260]\tvalid's auc: 0.984523\n",
      "[270]\tvalid's auc: 0.984839\n",
      "[280]\tvalid's auc: 0.984892\n",
      "[290]\tvalid's auc: 0.984997\n",
      "[300]\tvalid's auc: 0.985078\n",
      "[310]\tvalid's auc: 0.985148\n",
      "[320]\tvalid's auc: 0.985219\n",
      "[330]\tvalid's auc: 0.985251\n",
      "[340]\tvalid's auc: 0.985357\n",
      "[350]\tvalid's auc: 0.985434\n",
      "[360]\tvalid's auc: 0.985473\n",
      "[370]\tvalid's auc: 0.985639\n",
      "[380]\tvalid's auc: 0.985779\n",
      "[390]\tvalid's auc: 0.985871\n",
      "[400]\tvalid's auc: 0.986068\n",
      "[410]\tvalid's auc: 0.986103\n",
      "[420]\tvalid's auc: 0.986148\n",
      "[430]\tvalid's auc: 0.986181\n",
      "[440]\tvalid's auc: 0.986217\n",
      "[450]\tvalid's auc: 0.986269\n",
      "[460]\tvalid's auc: 0.986319\n",
      "[470]\tvalid's auc: 0.986337\n",
      "[480]\tvalid's auc: 0.986368\n",
      "[490]\tvalid's auc: 0.986369\n",
      "[500]\tvalid's auc: 0.986436\n",
      "[510]\tvalid's auc: 0.986461\n",
      "[520]\tvalid's auc: 0.986479\n",
      "[530]\tvalid's auc: 0.986546\n",
      "[540]\tvalid's auc: 0.986598\n",
      "[550]\tvalid's auc: 0.986618\n",
      "[560]\tvalid's auc: 0.986642\n",
      "[570]\tvalid's auc: 0.9867\n",
      "[580]\tvalid's auc: 0.986733\n",
      "[590]\tvalid's auc: 0.986767\n",
      "[600]\tvalid's auc: 0.986799\n",
      "[610]\tvalid's auc: 0.986782\n",
      "[620]\tvalid's auc: 0.986809\n",
      "[630]\tvalid's auc: 0.986895\n",
      "[640]\tvalid's auc: 0.986937\n",
      "[650]\tvalid's auc: 0.986967\n",
      "[660]\tvalid's auc: 0.986984\n",
      "[670]\tvalid's auc: 0.987003\n",
      "[680]\tvalid's auc: 0.987006\n",
      "[690]\tvalid's auc: 0.987033\n",
      "[700]\tvalid's auc: 0.987047\n",
      "[710]\tvalid's auc: 0.987069\n",
      "[720]\tvalid's auc: 0.987108\n",
      "[730]\tvalid's auc: 0.98711\n",
      "[740]\tvalid's auc: 0.98712\n",
      "[750]\tvalid's auc: 0.987144\n",
      "[760]\tvalid's auc: 0.987146\n",
      "[770]\tvalid's auc: 0.987184\n",
      "[780]\tvalid's auc: 0.987211\n",
      "[790]\tvalid's auc: 0.987226\n",
      "[800]\tvalid's auc: 0.987224\n",
      "[810]\tvalid's auc: 0.987232\n",
      "[820]\tvalid's auc: 0.987245\n",
      "[830]\tvalid's auc: 0.987275\n",
      "[840]\tvalid's auc: 0.987315\n",
      "[850]\tvalid's auc: 0.987293\n",
      "[860]\tvalid's auc: 0.987323\n",
      "[870]\tvalid's auc: 0.987333\n",
      "[880]\tvalid's auc: 0.987342\n",
      "[890]\tvalid's auc: 0.987343\n",
      "[900]\tvalid's auc: 0.987345\n",
      "[910]\tvalid's auc: 0.987359\n",
      "[920]\tvalid's auc: 0.987375\n",
      "[930]\tvalid's auc: 0.987449\n",
      "[940]\tvalid's auc: 0.98748\n",
      "[950]\tvalid's auc: 0.987488\n",
      "[960]\tvalid's auc: 0.987497\n",
      "[970]\tvalid's auc: 0.987511\n",
      "[980]\tvalid's auc: 0.987533\n",
      "[990]\tvalid's auc: 0.987563\n",
      "[1000]\tvalid's auc: 0.98753\n",
      "Did not meet early stopping. Best iteration is:\n",
      "[991]\tvalid's auc: 0.987564\n",
      "\n",
      "Model Report\n",
      "bst1.best_iteration:  991\n",
      "auc: 0.987563944935\n",
      "[12729.9215679]: model training time\n"
     ]
    },
    {
     "data": {
      "text/plain": [
       "108"
      ]
     },
     "execution_count": 55,
     "metadata": {},
     "output_type": "execute_result"
    }
   ],
   "source": [
    "params = {\n",
    "        'learning_rate': 0.10,\n",
    "        #'is_unbalance': 'true', # replaced with scale_pos_weight argument\n",
    "        'num_leaves': 7,  # 2^max_depth - 1\n",
    "        'max_depth': 3,  # -1 means no limit\n",
    "        'min_child_samples': 100,  # Minimum number of data need in a child(min_data_in_leaf)\n",
    "        'max_bin': 100,  # Number of bucketed bin for feature values\n",
    "        'subsample': 0.7,  # Subsample ratio of the training instance.\n",
    "        'subsample_freq': 1,  # frequence of subsample, <=0 means no enable\n",
    "        'colsample_bytree': 0.9,  # Subsample ratio of columns when constructing each tree.\n",
    "        'min_child_weight': 0,  # Minimum sum of instance weight(hessian) needed in a child(leaf)\n",
    "        'scale_pos_weight':200 # because training data is extremely unbalanced \n",
    "    }\n",
    "target = 'is_attributed'\n",
    "(bst,best_iteration) = lgb_modelfit_nocv(params, \n",
    "                        train_df, \n",
    "                        val_df, \n",
    "                        predictors, \n",
    "                        target, \n",
    "                        objective='binary', \n",
    "                        metrics='auc',\n",
    "                        early_stopping_rounds=30, \n",
    "                        verbose_eval=True, \n",
    "                        num_boost_round=1000)\n",
    "\n",
    "print('[{}]: model training time'.format(time.time() - start_time))\n",
    "del train_df\n",
    "del val_df\n",
    "gc.collect()\n"
   ]
  },
  {
   "cell_type": "code",
   "execution_count": 56,
   "metadata": {
    "collapsed": false,
    "deletable": true,
    "editable": true
   },
   "outputs": [
    {
     "data": {
      "image/png": "[encoded data removed]",
      "text/plain": [
       "<matplotlib.figure.Figure at 0x7ff820be2590>"
      ]
     },
     "metadata": {},
     "output_type": "display_data"
    }
   ],
   "source": [
    "ax = lgb.plot_importance(bst, max_num_features=300)\n",
    "\n",
    "#plt.savefig('test%d.png'%(fileno), dpi=600,bbox_inches=\"tight\")\n",
    "plt.show()"
   ]
  },
  {
   "cell_type": "code",
   "execution_count": 57,
   "metadata": {
    "collapsed": true,
    "deletable": true,
    "editable": true
   },
   "outputs": [],
   "source": [
    "    \n",
    "sub = pd.DataFrame()\n",
    "sub['click_id'] = test['click_id'].astype('int')\n",
    "\n",
    "gc.collect()\n",
    "\n",
    "# Save the predictions\n",
    "sub['is_attributed'] = bst.predict(test[predictors],num_iteration=best_iteration)\n",
    "sub.to_csv('lgbm_sub_1.csv', float_format='%.9f', index=False)"
   ]
  },
  {
   "cell_type": "code",
   "execution_count": null,
   "metadata": {
    "collapsed": true,
    "deletable": true,
    "editable": true
   },
   "outputs": [],
   "source": []
  }
 ],
 "metadata": {
  "kernelspec": {
   "display_name": "Python 3",
   "language": "python",
   "name": "python3"
  },
  "language_info": {
   "codemirror_mode": {
    "name": "ipython",
    "version": 3
   },
   "file_extension": ".py",
   "mimetype": "text/x-python",
   "name": "python",
   "nbconvert_exporter": "python",
   "pygments_lexer": "ipython3",
   "version": "3.5.1"
  }
 },
 "nbformat": 4,
 "nbformat_minor": 2
}
